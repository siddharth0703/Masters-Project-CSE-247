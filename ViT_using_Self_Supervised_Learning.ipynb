{
  "cells": [
    {
      "cell_type": "markdown",
      "source": [
        "# Imports and Gather Images"
      ],
      "metadata": {
        "id": "ehA03dwBDBUi"
      }
    },
    {
      "cell_type": "markdown",
      "source": [
        "## Install Addons and import Libraries"
      ],
      "metadata": {
        "id": "e5lctax0DdX3"
      }
    },
    {
      "cell_type": "code",
      "source": [
        "pip install -U tensorflow-addons"
      ],
      "metadata": {
        "id": "rS9EH2wtQUnN",
        "colab": {
          "base_uri": "https://localhost:8080/"
        },
        "outputId": "b314aef8-1dd3-4b3f-aebb-d14387b1a826"
      },
      "execution_count": null,
      "outputs": [
        {
          "output_type": "stream",
          "name": "stdout",
          "text": [
            "Looking in indexes: https://pypi.org/simple, https://us-python.pkg.dev/colab-wheels/public/simple/\n",
            "Requirement already satisfied: tensorflow-addons in /usr/local/lib/python3.7/dist-packages (0.17.0)\n",
            "Requirement already satisfied: packaging in /usr/local/lib/python3.7/dist-packages (from tensorflow-addons) (21.3)\n",
            "Requirement already satisfied: typeguard>=2.7 in /usr/local/lib/python3.7/dist-packages (from tensorflow-addons) (2.7.1)\n",
            "Requirement already satisfied: pyparsing!=3.0.5,>=2.0.2 in /usr/local/lib/python3.7/dist-packages (from packaging->tensorflow-addons) (3.0.9)\n"
          ]
        }
      ]
    },
    {
      "cell_type": "code",
      "source": [
        "pip install validators"
      ],
      "metadata": {
        "colab": {
          "base_uri": "https://localhost:8080/"
        },
        "id": "49fRheOLDVxQ",
        "outputId": "4c118e52-9ccd-426e-9f69-8f779e9bd833"
      },
      "execution_count": null,
      "outputs": [
        {
          "output_type": "stream",
          "name": "stdout",
          "text": [
            "Looking in indexes: https://pypi.org/simple, https://us-python.pkg.dev/colab-wheels/public/simple/\n",
            "Requirement already satisfied: validators in /usr/local/lib/python3.7/dist-packages (0.19.0)\n",
            "Requirement already satisfied: decorator>=3.4.0 in /usr/local/lib/python3.7/dist-packages (from validators) (4.4.2)\n"
          ]
        }
      ]
    },
    {
      "cell_type": "code",
      "execution_count": null,
      "metadata": {
        "id": "S-7j3IMHASiF"
      },
      "outputs": [],
      "source": [
        "from tensorflow.keras.layers import Dense, Dropout, LayerNormalization\n",
        "from tensorflow.keras.layers.experimental.preprocessing import Rescaling\n",
        "import numpy as np\n",
        "import tensorflow_datasets as tfds\n",
        "from tensorflow.keras.callbacks import TensorBoard\n",
        "import typing\n",
        "import warnings\n",
        "from urllib import request\n",
        "from http import client\n",
        "import io\n",
        "import pkg_resources\n",
        "import validators\n",
        "import numpy as np\n",
        "import scipy as sp\n",
        "import cv2\n",
        "import PIL\n",
        "import matplotlib.pyplot as plt\n",
        "import os\n",
        "import PIL\n",
        "import tensorflow as tf\n",
        "import cv2\n",
        "from tensorflow.keras.layers import Input , Concatenate , GlobalAveragePooling2D\n",
        "from tensorflow.keras.preprocessing.image import ImageDataGenerator\n",
        "from sklearn.utils import shuffle\n",
        "from keras.layers import BatchNormalization\n",
        "from tensorflow.keras.preprocessing import image\n",
        "from tensorflow.keras.applications import imagenet_utils\n",
        "from tensorflow.keras.models import Model\n",
        "from keras.layers import Dense, Dropout, Flatten\n",
        "import pathlib\n",
        "import shutil\n",
        "from tensorflow import keras\n",
        "from tensorflow.keras import datasets, layers\n",
        "import math\n",
        "import zipfile\n",
        "import glob\n",
        "import pandas as pd\n",
        "import tensorflow_addons as tfa"
      ]
    },
    {
      "cell_type": "markdown",
      "source": [
        "## Import CSV with Labels for Downstream Classification"
      ],
      "metadata": {
        "id": "xhsRvZIkDsC3"
      }
    },
    {
      "cell_type": "markdown",
      "source": [
        "### Specify File path to CSV in Gdrive"
      ],
      "metadata": {
        "id": "ZR1TFPxEF_Dt"
      }
    },
    {
      "cell_type": "code",
      "source": [
        "num_classes = 4\n",
        "from google.colab import drive\n",
        "drive.mount('/content/drive')"
      ],
      "metadata": {
        "colab": {
          "base_uri": "https://localhost:8080/"
        },
        "id": "nvCdtiMAF1nY",
        "outputId": "9dc0e929-5e7a-4003-b340-10a1984f22c2"
      },
      "execution_count": null,
      "outputs": [
        {
          "output_type": "stream",
          "name": "stdout",
          "text": [
            "Mounted at /content/drive\n"
          ]
        }
      ]
    },
    {
      "cell_type": "code",
      "source": [
        "mouse_csv_file=pd.read_csv('/content/drive/MyDrive/Cropped_Images_Wound_Stage_Probabilities_Cleaned_No_Ties.csv',index_col='Image')"
      ],
      "metadata": {
        "id": "B-7kPMn1eVwF"
      },
      "execution_count": null,
      "outputs": []
    },
    {
      "cell_type": "markdown",
      "source": [
        "### Convert CSV To DataFrame Object"
      ],
      "metadata": {
        "id": "jgGh-KarGMIH"
      }
    },
    {
      "cell_type": "code",
      "source": [
        "mouse_csv_file[[\"hemostasis\", \"inflammatory\",'proliferative','maturation']] = mouse_csv_file[[\"hemostasis\", \"inflammatory\",'proliferative','maturation']].apply(pd.to_numeric)"
      ],
      "metadata": {
        "id": "IFuqF9HgfI4X"
      },
      "execution_count": null,
      "outputs": []
    },
    {
      "cell_type": "code",
      "source": [
        "cropped_df=pd.DataFrame(mouse_csv_file.idxmax(axis=1),columns=['stage'])"
      ],
      "metadata": {
        "id": "miGt2F8tfJzM"
      },
      "execution_count": null,
      "outputs": []
    },
    {
      "cell_type": "code",
      "source": [
        "cropped_df['stage'].replace([\"hemostasis\", \"inflammatory\",'proliferative','maturation'],\n",
        "                        [0, 1,2,3], inplace=True)"
      ],
      "metadata": {
        "id": "EBCgOE5vfMP5"
      },
      "execution_count": null,
      "outputs": []
    },
    {
      "cell_type": "code",
      "source": [
        "cropped_df"
      ],
      "metadata": {
        "id": "O-aDJL1ufNj2",
        "colab": {
          "base_uri": "https://localhost:8080/",
          "height": 884
        },
        "outputId": "8bc4bb80-9b49-4514-9ac4-19a551cebc68"
      },
      "execution_count": null,
      "outputs": [
        {
          "output_type": "execute_result",
          "data": {
            "text/plain": [
              "                   stage\n",
              "Image                   \n",
              "Day 8_A8-4-L.png       2\n",
              "Day 4_A8-3-R.png       1\n",
              "Day 14_Y8-4-L.png      3\n",
              "Day 7_Y8-4-L.png       2\n",
              "Day 2_A8-1-L.png       1\n",
              "...                  ...\n",
              "Day 4_Y8-1-L.png       1\n",
              "Day 6_Y8-2-L.png       1\n",
              "Day 5_A8-4-R.png       1\n",
              "Day 9_Y8-2-L.png       1\n",
              "Day 1_Y8-4-L.png       1\n",
              "\n",
              "[255 rows x 1 columns]"
            ],
            "text/html": [
              "\n",
              "  <div id=\"df-1d897c91-ce21-4bb5-bc8a-afce0f00ec28\">\n",
              "    <div class=\"colab-df-container\">\n",
              "      <div>\n",
              "<style scoped>\n",
              "    .dataframe tbody tr th:only-of-type {\n",
              "        vertical-align: middle;\n",
              "    }\n",
              "\n",
              "    .dataframe tbody tr th {\n",
              "        vertical-align: top;\n",
              "    }\n",
              "\n",
              "    .dataframe thead th {\n",
              "        text-align: right;\n",
              "    }\n",
              "</style>\n",
              "<table border=\"1\" class=\"dataframe\">\n",
              "  <thead>\n",
              "    <tr style=\"text-align: right;\">\n",
              "      <th></th>\n",
              "      <th>stage</th>\n",
              "    </tr>\n",
              "    <tr>\n",
              "      <th>Image</th>\n",
              "      <th></th>\n",
              "    </tr>\n",
              "  </thead>\n",
              "  <tbody>\n",
              "    <tr>\n",
              "      <th>Day 8_A8-4-L.png</th>\n",
              "      <td>2</td>\n",
              "    </tr>\n",
              "    <tr>\n",
              "      <th>Day 4_A8-3-R.png</th>\n",
              "      <td>1</td>\n",
              "    </tr>\n",
              "    <tr>\n",
              "      <th>Day 14_Y8-4-L.png</th>\n",
              "      <td>3</td>\n",
              "    </tr>\n",
              "    <tr>\n",
              "      <th>Day 7_Y8-4-L.png</th>\n",
              "      <td>2</td>\n",
              "    </tr>\n",
              "    <tr>\n",
              "      <th>Day 2_A8-1-L.png</th>\n",
              "      <td>1</td>\n",
              "    </tr>\n",
              "    <tr>\n",
              "      <th>...</th>\n",
              "      <td>...</td>\n",
              "    </tr>\n",
              "    <tr>\n",
              "      <th>Day 4_Y8-1-L.png</th>\n",
              "      <td>1</td>\n",
              "    </tr>\n",
              "    <tr>\n",
              "      <th>Day 6_Y8-2-L.png</th>\n",
              "      <td>1</td>\n",
              "    </tr>\n",
              "    <tr>\n",
              "      <th>Day 5_A8-4-R.png</th>\n",
              "      <td>1</td>\n",
              "    </tr>\n",
              "    <tr>\n",
              "      <th>Day 9_Y8-2-L.png</th>\n",
              "      <td>1</td>\n",
              "    </tr>\n",
              "    <tr>\n",
              "      <th>Day 1_Y8-4-L.png</th>\n",
              "      <td>1</td>\n",
              "    </tr>\n",
              "  </tbody>\n",
              "</table>\n",
              "<p>255 rows × 1 columns</p>\n",
              "</div>\n",
              "      <button class=\"colab-df-convert\" onclick=\"convertToInteractive('df-1d897c91-ce21-4bb5-bc8a-afce0f00ec28')\"\n",
              "              title=\"Convert this dataframe to an interactive table.\"\n",
              "              style=\"display:none;\">\n",
              "        \n",
              "  <svg xmlns=\"http://www.w3.org/2000/svg\" height=\"24px\"viewBox=\"0 0 24 24\"\n",
              "       width=\"24px\">\n",
              "    <path d=\"M0 0h24v24H0V0z\" fill=\"none\"/>\n",
              "    <path d=\"M18.56 5.44l.94 2.06.94-2.06 2.06-.94-2.06-.94-.94-2.06-.94 2.06-2.06.94zm-11 1L8.5 8.5l.94-2.06 2.06-.94-2.06-.94L8.5 2.5l-.94 2.06-2.06.94zm10 10l.94 2.06.94-2.06 2.06-.94-2.06-.94-.94-2.06-.94 2.06-2.06.94z\"/><path d=\"M17.41 7.96l-1.37-1.37c-.4-.4-.92-.59-1.43-.59-.52 0-1.04.2-1.43.59L10.3 9.45l-7.72 7.72c-.78.78-.78 2.05 0 2.83L4 21.41c.39.39.9.59 1.41.59.51 0 1.02-.2 1.41-.59l7.78-7.78 2.81-2.81c.8-.78.8-2.07 0-2.86zM5.41 20L4 18.59l7.72-7.72 1.47 1.35L5.41 20z\"/>\n",
              "  </svg>\n",
              "      </button>\n",
              "      \n",
              "  <style>\n",
              "    .colab-df-container {\n",
              "      display:flex;\n",
              "      flex-wrap:wrap;\n",
              "      gap: 12px;\n",
              "    }\n",
              "\n",
              "    .colab-df-convert {\n",
              "      background-color: #E8F0FE;\n",
              "      border: none;\n",
              "      border-radius: 50%;\n",
              "      cursor: pointer;\n",
              "      display: none;\n",
              "      fill: #1967D2;\n",
              "      height: 32px;\n",
              "      padding: 0 0 0 0;\n",
              "      width: 32px;\n",
              "    }\n",
              "\n",
              "    .colab-df-convert:hover {\n",
              "      background-color: #E2EBFA;\n",
              "      box-shadow: 0px 1px 2px rgba(60, 64, 67, 0.3), 0px 1px 3px 1px rgba(60, 64, 67, 0.15);\n",
              "      fill: #174EA6;\n",
              "    }\n",
              "\n",
              "    [theme=dark] .colab-df-convert {\n",
              "      background-color: #3B4455;\n",
              "      fill: #D2E3FC;\n",
              "    }\n",
              "\n",
              "    [theme=dark] .colab-df-convert:hover {\n",
              "      background-color: #434B5C;\n",
              "      box-shadow: 0px 1px 3px 1px rgba(0, 0, 0, 0.15);\n",
              "      filter: drop-shadow(0px 1px 2px rgba(0, 0, 0, 0.3));\n",
              "      fill: #FFFFFF;\n",
              "    }\n",
              "  </style>\n",
              "\n",
              "      <script>\n",
              "        const buttonEl =\n",
              "          document.querySelector('#df-1d897c91-ce21-4bb5-bc8a-afce0f00ec28 button.colab-df-convert');\n",
              "        buttonEl.style.display =\n",
              "          google.colab.kernel.accessAllowed ? 'block' : 'none';\n",
              "\n",
              "        async function convertToInteractive(key) {\n",
              "          const element = document.querySelector('#df-1d897c91-ce21-4bb5-bc8a-afce0f00ec28');\n",
              "          const dataTable =\n",
              "            await google.colab.kernel.invokeFunction('convertToInteractive',\n",
              "                                                     [key], {});\n",
              "          if (!dataTable) return;\n",
              "\n",
              "          const docLinkHtml = 'Like what you see? Visit the ' +\n",
              "            '<a target=\"_blank\" href=https://colab.research.google.com/notebooks/data_table.ipynb>data table notebook</a>'\n",
              "            + ' to learn more about interactive tables.';\n",
              "          element.innerHTML = '';\n",
              "          dataTable['output_type'] = 'display_data';\n",
              "          await google.colab.output.renderOutput(dataTable, element);\n",
              "          const docLink = document.createElement('div');\n",
              "          docLink.innerHTML = docLinkHtml;\n",
              "          element.appendChild(docLink);\n",
              "        }\n",
              "      </script>\n",
              "    </div>\n",
              "  </div>\n",
              "  "
            ]
          },
          "metadata": {},
          "execution_count": 13
        }
      ]
    },
    {
      "cell_type": "markdown",
      "source": [
        "# Create Pairs for Pretext Task"
      ],
      "metadata": {
        "id": "1IX2HkVfhrx_"
      }
    },
    {
      "cell_type": "markdown",
      "metadata": {
        "id": "SM-LvjMBFqeb"
      },
      "source": [
        "## Train"
      ]
    },
    {
      "cell_type": "code",
      "execution_count": null,
      "metadata": {
        "id": "zH7y5ffhttCJ"
      },
      "outputs": [],
      "source": [
        "#SPLINTELESS DATA\n",
        "cropped_img_dir=\"/content/drive/MyDrive/Circle_Cropped_images_Sid/\""
      ]
    },
    {
      "cell_type": "code",
      "execution_count": null,
      "metadata": {
        "id": "b7Jw5m8Vt3eQ"
      },
      "outputs": [],
      "source": [
        "mice_list_types=['_A8-1-','_A8-3-','_A8-4-','_A8-5-','_Y8-1-','_Y8-2-','_Y8-3-','_Y8-4-']"
      ]
    },
    {
      "cell_type": "code",
      "execution_count": null,
      "metadata": {
        "id": "BhKzCGY1wBCq"
      },
      "outputs": [],
      "source": [
        "mice_list_train=['_A8-1-','_A8-3-','_A8-5-','_Y8-1-','_Y8-4-','_Y8-3-']"
      ]
    },
    {
      "cell_type": "code",
      "execution_count": null,
      "metadata": {
        "id": "e1h2L8vj9frB"
      },
      "outputs": [],
      "source": [
        "def create_pairs_dataset_train():\n",
        "  days_count = 16\n",
        "  labels = []\n",
        "  pairs = []\n",
        "  \n",
        "  # Mice pairs generation\n",
        "  for mice_type in mice_list_train:\n",
        "    # Iterate forward through the days\n",
        "    for i in range(days_count-1):\n",
        "      for j in range(i+1, days_count):\n",
        "        # Left positive pairs\n",
        "        left_positive_1 = cropped_img_dir + \"Day \" + str(i) + mice_type + \"L.png\"\n",
        "        left_positive_2 = cropped_img_dir + \"Day \" + str(j) + mice_type + \"L.png\"\n",
        "        # print(left_positive_1 , left_positive_2)\n",
        "        # Right positive pairs\n",
        "        right_positive_1 = cropped_img_dir + \"Day \" + str(i) + mice_type + \"R.png\"\n",
        "        right_positive_2 = cropped_img_dir + \"Day \" + str(j) + mice_type + \"R.png\"\n",
        "        # print(right_positive_1 , right_positive_2)\n",
        "        \n",
        "        pairs.append((left_positive_1, left_positive_2))\n",
        "        pairs.append((right_positive_1, right_positive_2))\n",
        "\n",
        "        labels += [1]\n",
        "        labels += [1]\n",
        "\n",
        "    # print()\n",
        "    # Iterate backward through the days\n",
        "    for i in reversed(range(days_count)):\n",
        "      for j in reversed(range(i)):\n",
        "        # Left negative pairs\n",
        "        left_negative_1 = cropped_img_dir + \"Day \" + str(i) + mice_type + \"L.png\"\n",
        "        left_negative_2 = cropped_img_dir + \"Day \" + str(j) + mice_type + \"L.png\"\n",
        "        # print(\"negs are\",left_negative_1 , left_negative_2)\n",
        "        # Right negative pairs\n",
        "        right_negative_1 = cropped_img_dir + \"Day \" + str(i) + mice_type + \"R.png\"\n",
        "        right_negative_2 = cropped_img_dir + \"Day \" + str(j) + mice_type + \"R.png\"\n",
        "        # print(\"Neg sare\",right_positive_1 , right_positive_2)\n",
        "        pairs.append((left_negative_1, left_negative_2))\n",
        "        pairs.append((right_negative_1, right_negative_2))\n",
        "\n",
        "        labels += [0]\n",
        "        labels += [0]\n",
        "\n",
        "  return np.array(pairs), np.array(labels).astype(\"float32\")"
      ]
    },
    {
      "cell_type": "code",
      "execution_count": null,
      "metadata": {
        "id": "hvbXNw6zDpUM",
        "colab": {
          "base_uri": "https://localhost:8080/"
        },
        "outputId": "e73825b4-dae0-428a-b5ab-0d90b36ab09d"
      },
      "outputs": [
        {
          "output_type": "stream",
          "name": "stdout",
          "text": [
            "Total pairs: 2880\n",
            "Shape of pairs: (2880, 2)\n",
            "Total labels: 2880\n",
            "Shape of labels: (2880,)\n"
          ]
        }
      ],
      "source": [
        "train_pairs, train_labels = create_pairs_dataset_train()\n",
        "\n",
        "print(\"Total pairs:\", len(train_pairs))\n",
        "print(\"Shape of pairs:\", train_pairs.shape)\n",
        "print(\"Total labels:\", len(train_labels))\n",
        "print(\"Shape of labels:\", train_labels.shape)"
      ]
    },
    {
      "cell_type": "code",
      "execution_count": null,
      "metadata": {
        "id": "dCvkJgsOeNa5",
        "colab": {
          "base_uri": "https://localhost:8080/"
        },
        "outputId": "6014762b-52c1-4c65-eec6-974820e9d603"
      },
      "outputs": [
        {
          "output_type": "stream",
          "name": "stdout",
          "text": [
            "['/content/drive/MyDrive/Circle_Cropped_images_Sid/Day 0_A8-1-L.png'\n",
            " '/content/drive/MyDrive/Circle_Cropped_images_Sid/Day 10_A8-1-L.png']\n"
          ]
        }
      ],
      "source": [
        "print(train_pairs[18])"
      ]
    },
    {
      "cell_type": "code",
      "execution_count": null,
      "metadata": {
        "id": "3Z51OYfNDzuT"
      },
      "outputs": [],
      "source": [
        "# train_pairs, labels = shuffle(train_pairs, train_labels, random_state=0)"
      ]
    },
    {
      "cell_type": "markdown",
      "metadata": {
        "id": "k2P6-J-8Fs9M"
      },
      "source": [
        "## Test Data and Validation Data"
      ]
    },
    {
      "cell_type": "markdown",
      "source": [
        "Notice here we specify the wound type to incorporate mices of different age groups "
      ],
      "metadata": {
        "id": "nxF4SweUG2J-"
      }
    },
    {
      "cell_type": "code",
      "source": [
        "mice_list_val=['_A8-4-R','_Y8-2-R']"
      ],
      "metadata": {
        "id": "X1su_j9fuHnS"
      },
      "execution_count": null,
      "outputs": []
    },
    {
      "cell_type": "code",
      "execution_count": null,
      "metadata": {
        "id": "0m6JCuHyFsRT"
      },
      "outputs": [],
      "source": [
        "def create_pairs_dataset_val():\n",
        "  \n",
        "  days_count = 16\n",
        "  val_pairs=[]\n",
        "  val_labels=[]\n",
        "\n",
        "  # Mice pairs generation\n",
        "  for mice_type in mice_list_val:\n",
        "    # Iterate forward through the days\n",
        "    for i in range(days_count-1):\n",
        "      for j in range(i+1, days_count):\n",
        "          # Left positive pairs\n",
        "\n",
        "          right_positive_1 = cropped_img_dir + \"Day \" + str(i) + mice_type + \".png\"\n",
        "          right_positive_2 = cropped_img_dir + \"Day \" + str(j) + mice_type + \".png\"\n",
        "          \n",
        "          val_pairs.append((right_positive_1, right_positive_2))\n",
        "          val_labels += [1]\n",
        "\n",
        "    # Iterate backward through the days\n",
        "    for i in reversed(range(days_count)):\n",
        "      for j in reversed(range(i)):\n",
        "        # Left negative pairs\n",
        "          left_negative_1 = cropped_img_dir + \"Day \" + str(i) + mice_type + \".png\"\n",
        "          left_negative_2 = cropped_img_dir + \"Day \" + str(j) + mice_type + \".png\"\n",
        "          \n",
        "          val_pairs.append((left_negative_1, left_negative_2))\n",
        "          val_labels += [0]\n",
        "\n",
        "  return  np.array(val_pairs) , np.array(val_labels).astype(\"float32\")"
      ]
    },
    {
      "cell_type": "code",
      "execution_count": null,
      "metadata": {
        "colab": {
          "base_uri": "https://localhost:8080/"
        },
        "id": "H055mVB2GLir",
        "outputId": "322464f4-5665-425a-95aa-6c6c506210b8"
      },
      "outputs": [
        {
          "output_type": "stream",
          "name": "stdout",
          "text": [
            "Total pairs: 480\n",
            "Shape of pairs: (480, 2)\n",
            "Total labels: 480\n",
            "Shape of labels: (480,)\n"
          ]
        }
      ],
      "source": [
        "val_pairs,val_labels = create_pairs_dataset_val()\n",
        "print(\"Total pairs:\", len(val_pairs))\n",
        "print(\"Shape of pairs:\", val_pairs.shape)\n",
        "print(\"Total labels:\", len(val_labels))\n",
        "print(\"Shape of labels:\", val_labels.shape)"
      ]
    },
    {
      "cell_type": "code",
      "source": [
        "mice_list_test=['_A8-4-L','_Y8-2-L']"
      ],
      "metadata": {
        "id": "EktFKwl9uJpq"
      },
      "execution_count": null,
      "outputs": []
    },
    {
      "cell_type": "code",
      "source": [
        "def create_pairs_dataset_test():\n",
        "  \n",
        "  days_count = 16\n",
        "  test_pairs=[]\n",
        "  test_labels=[]\n",
        "\n",
        "  # Mice pairs generation\n",
        "  for mice_type in mice_list_test:\n",
        "    # Iterate forward through the days\n",
        "    for i in range(days_count-1):\n",
        "      for j in range(i+1, days_count):\n",
        "          # Left positive pairs\n",
        "\n",
        "          left_positive_1 = cropped_img_dir + \"Day \" + str(i) + mice_type + \".png\"\n",
        "          left_positive_2 = cropped_img_dir + \"Day \" + str(j) + mice_type + \".png\"\n",
        "          \n",
        "          test_pairs.append((left_positive_1, left_positive_2))\n",
        "          test_labels += [1]\n",
        "\n",
        "    # Iterate backward through the days\n",
        "    for i in reversed(range(days_count)):\n",
        "      for j in reversed(range(i)):\n",
        "        # Left negative pairs\n",
        "          left_negative_1 = cropped_img_dir + \"Day \" + str(i) + mice_type + \".png\"\n",
        "          left_negative_2 = cropped_img_dir + \"Day \" + str(j) + mice_type + \".png\"\n",
        "          \n",
        "          test_pairs.append((left_negative_1, left_negative_2))\n",
        "          test_labels += [0]\n",
        "\n",
        "  return  np.array(test_pairs) , np.array(test_labels).astype(\"float32\")"
      ],
      "metadata": {
        "id": "RlacvfXVNOIZ"
      },
      "execution_count": null,
      "outputs": []
    },
    {
      "cell_type": "code",
      "source": [
        "test_pairs,test_labels = create_pairs_dataset_test()\n",
        "print()\n",
        "print(\"Total pairs:\", len(test_pairs))\n",
        "print(\"Shape of pairs:\", test_pairs.shape)\n",
        "print(\"Total labels:\", len(test_labels))\n",
        "print(\"Shape of labels:\", test_labels.shape)"
      ],
      "metadata": {
        "colab": {
          "base_uri": "https://localhost:8080/"
        },
        "id": "JM5lhRySNSSF",
        "outputId": "09c5bc1d-5fa9-4ea5-cbb0-ae8a44922ede"
      },
      "execution_count": null,
      "outputs": [
        {
          "output_type": "stream",
          "name": "stdout",
          "text": [
            "\n",
            "Total pairs: 480\n",
            "Shape of pairs: (480, 2)\n",
            "Total labels: 480\n",
            "Shape of labels: (480,)\n"
          ]
        }
      ]
    },
    {
      "cell_type": "markdown",
      "metadata": {
        "id": "xwh1YiPIUixY"
      },
      "source": [
        "## Load Dataset"
      ]
    },
    {
      "cell_type": "code",
      "execution_count": null,
      "metadata": {
        "id": "9FA41gOt94Km"
      },
      "outputs": [],
      "source": [
        "#Specify Image size\n",
        "image_size=224"
      ]
    },
    {
      "cell_type": "code",
      "source": [
        "#Pil Loader loads images and resizes them to 224 x 224\n",
        "\n",
        "def pil_loader(path, target_image_shape=(image_size,image_size)):\n",
        "  # open path as file to avoid ResourceWarning (https://github.com/python-pillow/Pillow/issues/835)\n",
        "  with open(path, 'rb') as f:\n",
        "    img = PIL.Image.open(f)\n",
        "    img = np.array(img)\n",
        "    img = cv2.resize(img, target_image_shape)\n",
        "    return img"
      ],
      "metadata": {
        "id": "Fds5BKmJv2hC"
      },
      "execution_count": null,
      "outputs": []
    },
    {
      "cell_type": "code",
      "execution_count": null,
      "metadata": {
        "id": "3ewB9P8wSh5b"
      },
      "outputs": [],
      "source": [
        "#Call different test , train , val functions for creating pairs\n",
        "\"\"\"\n",
        "This funcations returns numpy arrays of left images , right images and labels\n",
        "\"\"\"\n",
        "\n",
        "def load_dataset_train(n_pairs):\n",
        "  left_images = []\n",
        "  right_images = []\n",
        "  image_labels = []\n",
        "\n",
        "  for i in range(n_pairs):\n",
        "    file_l = pathlib.Path(train_pairs[i][0])\n",
        "    file_r = pathlib.Path(train_pairs[i][1])\n",
        "    \n",
        "    if file_l.exists() and file_r.exists():\n",
        "      left_images += [pil_loader(train_pairs[i][0])]\n",
        "      right_images += [pil_loader(train_pairs[i][1])]\n",
        "      image_labels += [train_labels[i]]\n",
        "\n",
        "  return np.array(left_images), np.array(right_images), np.array(image_labels).astype('float32').reshape((-1,1))\n",
        "\n",
        "\n",
        "def load_dataset_test(n_pairs):\n",
        "  left_images = []\n",
        "  right_images = []\n",
        "  image_labels = []\n",
        "\n",
        "  for i in range(n_pairs):\n",
        "    file_l = pathlib.Path(test_pairs[i][0])\n",
        "    file_r = pathlib.Path(test_pairs[i][1])\n",
        "    \n",
        "    if file_l.exists() and file_r.exists():\n",
        "      left_images += [pil_loader(test_pairs[i][0])]\n",
        "      right_images += [pil_loader(test_pairs[i][1])]\n",
        "      image_labels += [test_labels[i]]\n",
        "\n",
        "  return np.array(left_images), np.array(right_images), np.array(image_labels).astype('float32').reshape((-1,1))\n",
        "\n",
        "def load_dataset_val(n_pairs):\n",
        "  left_images = []\n",
        "  right_images = []\n",
        "  image_labels = []\n",
        "\n",
        "  for i in range(n_pairs):\n",
        "    file_l = pathlib.Path(val_pairs[i][0])\n",
        "    file_r = pathlib.Path(val_pairs[i][1])\n",
        "    \n",
        "    if file_l.exists() and file_r.exists():\n",
        "      left_images += [pil_loader(val_pairs[i][0])]\n",
        "      right_images += [pil_loader(val_pairs[i][1])]\n",
        "      image_labels += [val_labels[i]]\n",
        "\n",
        "  return np.array(left_images), np.array(right_images), np.array(image_labels).astype('float32').reshape((-1,1))"
      ]
    },
    {
      "cell_type": "code",
      "execution_count": null,
      "metadata": {
        "id": "VDTk5O_VUMTf"
      },
      "outputs": [],
      "source": [
        "left_train, right_train, labels_train = load_dataset_train(2880)\n",
        "left_test, right_test, labels_test = load_dataset_test(480)\n",
        "left_val, right_val, labels_val = load_dataset_val(480)"
      ]
    },
    {
      "cell_type": "markdown",
      "source": [
        "# Create single Images dataset for downstream classification"
      ],
      "metadata": {
        "id": "jQAeUd6_Su7b"
      }
    },
    {
      "cell_type": "code",
      "source": [
        "# Old directory contains wound images with splint\n",
        "# Circle_Cropped_images_Sid contains preprocessed images without splint\n",
        "\n",
        "directory_train_old = '/content/drive/MyDrive/Wound_images/train/'\n",
        "directory_test_old = '/content/drive/MyDrive/Wound_images/test/'\n",
        "directory_val_old = '/content/drive/MyDrive/Wound_images/val/'\n",
        "directory_new='/content/drive/MyDrive/Circle_Cropped_images_Sid/'"
      ],
      "metadata": {
        "id": "5HB2H-vDYcSE"
      },
      "execution_count": null,
      "outputs": []
    },
    {
      "cell_type": "code",
      "source": [
        "file_list_test=os.listdir(directory_test_old)\n",
        "file_list_train=os.listdir(directory_train_old)\n",
        "file_list_val=os.listdir(directory_val_old)"
      ],
      "metadata": {
        "id": "VfNWlspabG6o"
      },
      "execution_count": null,
      "outputs": []
    },
    {
      "cell_type": "code",
      "source": [
        "def create_train_dataset():\n",
        "  labels=[]\n",
        "  dataset=[]\n",
        "  for file_path in file_list_train:\n",
        "    dataset.append(directory_new + file_path)\n",
        "    labels.append(cropped_df.loc[file_path][0])\n",
        "  return dataset, labels\n",
        "\n",
        "\n",
        "def create_test_dataset():\n",
        "  labels=[]\n",
        "  dataset=[]\n",
        "  for file_path in file_list_test:\n",
        "    dataset.append(directory_new + file_path)\n",
        "    labels.append(cropped_df.loc[file_path][0])\n",
        "\n",
        "  return dataset, labels\n",
        "\n",
        "def create_val_dataset():\n",
        "  labels=[]\n",
        "  dataset=[]\n",
        "  for file_path in file_list_val:    \n",
        "    dataset.append(directory_new + file_path)\n",
        "    labels.append(cropped_df.loc[file_path][0])\n",
        "\n",
        "  return dataset, labels"
      ],
      "metadata": {
        "id": "bCgSYC11aeW0"
      },
      "execution_count": null,
      "outputs": []
    },
    {
      "cell_type": "code",
      "source": [
        "#These variables hold the image file paths along with the labels from the Labels Dataframe\n",
        "train_X_dir , train_Y_dir = create_train_dataset()\n",
        "test_X_dir , test_Y_dir = create_test_dataset()\n",
        "val_X_dir , val_Y_dir = create_val_dataset()"
      ],
      "metadata": {
        "id": "xyHjz0a8b7IG"
      },
      "execution_count": null,
      "outputs": []
    },
    {
      "cell_type": "code",
      "source": [
        "print(len(train_X_dir) , len(train_Y_dir))\n",
        "print(len(val_X_dir) , len(val_Y_dir))\n",
        "print(len(test_X_dir) , len(test_Y_dir))"
      ],
      "metadata": {
        "colab": {
          "base_uri": "https://localhost:8080/"
        },
        "id": "s-dHUcEbziYW",
        "outputId": "504f1f02-c8eb-4221-8cea-b73496e1e433"
      },
      "execution_count": null,
      "outputs": [
        {
          "output_type": "stream",
          "name": "stdout",
          "text": [
            "191 191\n",
            "32 32\n",
            "32 32\n"
          ]
        }
      ]
    },
    {
      "cell_type": "code",
      "source": [
        "#Pil Loader loads images and resizes them to 224 x 224\n",
        "def pil_loader_black(path, target_image_shape=(image_size,image_size)):\n",
        "  # open path as file to avoid ResourceWarning (https://github.com/python-pillow/Pillow/issues/835)\n",
        "  with open(path, 'rb') as f:\n",
        "    img = PIL.Image.open(f)\n",
        "    img = np.array(img)\n",
        "    img = cv2.resize(img, target_image_shape)\n",
        "    return img"
      ],
      "metadata": {
        "id": "JTfZwICUgXZb"
      },
      "execution_count": null,
      "outputs": []
    },
    {
      "cell_type": "code",
      "source": [
        "def load_dataset(pairs,labels):\n",
        "  images=[]\n",
        "  image_labels = []\n",
        "\n",
        "  for i in range(len(pairs)):\n",
        "    file_dir  = pathlib.Path(pairs[i])\n",
        "    \n",
        "    if file_dir.exists():\n",
        "        images += [pil_loader_black(pairs[i])]      \n",
        "        image_labels += [labels[i]]\n",
        "  return images,image_labels"
      ],
      "metadata": {
        "id": "KbRpBdBWgZ0e"
      },
      "execution_count": null,
      "outputs": []
    },
    {
      "cell_type": "code",
      "source": [
        "train_images,train_labels=load_dataset(train_X_dir , train_Y_dir)\n",
        "test_images,test_labels = load_dataset(test_X_dir , test_Y_dir)\n",
        "val_images,val_labels = load_dataset(val_X_dir , val_Y_dir)"
      ],
      "metadata": {
        "id": "t6lI7mBZgdso"
      },
      "execution_count": null,
      "outputs": []
    },
    {
      "cell_type": "code",
      "source": [
        "print(len(train_images) , len(train_labels))\n",
        "print(len(val_X_dir) , len(val_Y_dir))\n",
        "print(len(test_X_dir) , len(test_Y_dir))"
      ],
      "metadata": {
        "colab": {
          "base_uri": "https://localhost:8080/"
        },
        "id": "dmxCfaTY0h4O",
        "outputId": "6c072549-ff0a-4a79-f578-aa1926f640b3"
      },
      "execution_count": null,
      "outputs": [
        {
          "output_type": "stream",
          "name": "stdout",
          "text": [
            "191 191\n",
            "32 32\n",
            "32 32\n"
          ]
        }
      ]
    },
    {
      "cell_type": "code",
      "source": [
        "#Test an image and its directory\n",
        "print(test_X_dir[2])\n",
        "plt.imshow(test_images[2])"
      ],
      "metadata": {
        "id": "osfl9n3oggJj",
        "colab": {
          "base_uri": "https://localhost:8080/",
          "height": 305
        },
        "outputId": "53b4c9e7-baf7-4688-8f7d-3cd9d03725db"
      },
      "execution_count": null,
      "outputs": [
        {
          "output_type": "stream",
          "name": "stdout",
          "text": [
            "/content/drive/MyDrive/Circle_Cropped_images_Sid/Day 0_Y8-3-R.png\n"
          ]
        },
        {
          "output_type": "execute_result",
          "data": {
            "text/plain": [
              "<matplotlib.image.AxesImage at 0x7fa3ccef5e50>"
            ]
          },
          "metadata": {},
          "execution_count": 50
        },
        {
          "output_type": "display_data",
          "data": {
            "text/plain": [
              "<Figure size 432x288 with 1 Axes>"
            ],
            "image/png": "[encoded data removed]"
          },
          "metadata": {
            "needs_background": "light"
          }
        }
      ]
    },
    {
      "cell_type": "code",
      "source": [
        "#Reshape the images and labels array to Numpy\n",
        "\n",
        "train_X , train_Y = np.array(train_images),np.array(train_labels).astype('float64').reshape((-1,1))\n",
        "test_X , test_Y = np.array(test_images),np.array(test_labels).astype('float64').reshape((-1,1))\n",
        "val_X , val_Y = np.array(val_images),np.array(val_labels).astype('float64').reshape((-1,1))"
      ],
      "metadata": {
        "id": "ZePI5YyAgkg0"
      },
      "execution_count": null,
      "outputs": []
    },
    {
      "cell_type": "markdown",
      "metadata": {
        "id": "miRzKpnAxcIY"
      },
      "source": [
        "# Specify parameters for Vision Transformer and Model"
      ]
    },
    {
      "cell_type": "code",
      "execution_count": null,
      "metadata": {
        "id": "Fr4mLoB-IeqU"
      },
      "outputs": [],
      "source": [
        "learning_rate = 0.001\n",
        "weight_decay = 0.0001\n",
        "batch_size = 8\n",
        "num_epochs = 50\n",
        "patch_size = 16  # Size of the patches to be extract from the input images\n",
        "num_patches = (image_size // patch_size) ** 2\n",
        "projection_dim = 64\n",
        "num_heads = 4\n",
        "transformer_units = [\n",
        "    projection_dim * 2,\n",
        "    projection_dim,\n",
        "]  # Size of the transformer layers\n",
        "transformer_layers = 4\n",
        "mlp_head_units = [2048, 1024]  # Size of the dense layers of the final classifier\n",
        "num_classes = 4"
      ]
    },
    {
      "cell_type": "markdown",
      "metadata": {
        "id": "Q0FD78G1heQ7"
      },
      "source": [
        "# Define MultiHeadAttention Class and add a DummyLayer which returns weights for Attention maps"
      ]
    },
    {
      "cell_type": "markdown",
      "source": [
        "## Define Classes"
      ],
      "metadata": {
        "id": "sWdJ_rK-UM27"
      }
    },
    {
      "cell_type": "code",
      "execution_count": null,
      "metadata": {
        "id": "8hY6m50Ozwew"
      },
      "outputs": [],
      "source": [
        "class MultiHeadSelfAttention(tf.keras.layers.Layer):\n",
        "    def __init__(self, embed_dim, num_heads=4):\n",
        "        super(MultiHeadSelfAttention, self).__init__()\n",
        "        self.embed_dim = embed_dim\n",
        "        self.num_heads = num_heads\n",
        "        if embed_dim % num_heads != 0:\n",
        "            raise ValueError(\n",
        "                f\"embedding dimension = {embed_dim} should be divisible by number of heads = {num_heads}\"\n",
        "            )\n",
        "        self.projection_dim = embed_dim // num_heads\n",
        "        #attention takes three inputs: queries, keys, and  values,\n",
        "        self.query_dense = Dense(embed_dim)\n",
        "        self.key_dense = Dense(embed_dim)\n",
        "        self.value_dense = Dense(embed_dim)\n",
        "        self.combine_heads = Dense(embed_dim)\n",
        "\n",
        "    def attention(self, query, key, value):\n",
        "        #use the product between the queries and the keys \n",
        "        #to know \"how much\" each element is the sequence is important with the rest\n",
        "        score = tf.matmul(query, key, transpose_b=True)\n",
        "        dim_key = tf.cast(tf.shape(key)[-1], tf.float32)\n",
        "        #resulting vector, score is divided by a scaling factor based on the size of the embedding\n",
        "        #scaling fcator is square root of the embeding dimension\n",
        "        scaled_score = score / tf.math.sqrt(dim_key)\n",
        "        #the attention scaled_score is then softmaxed\n",
        "        weights = tf.nn.softmax(scaled_score, axis=-1)\n",
        "        #Attention(Q, K, V ) = softmax[(QK)/√dim_key]V\n",
        "        output = tf.matmul(weights, value)\n",
        "        return output, weights\n",
        "\n",
        "    def separate_heads(self, x, batch_size):\n",
        "        x = tf.reshape(\n",
        "            x, (batch_size, -1, self.num_heads, self.projection_dim)\n",
        "        )\n",
        "        return tf.transpose(x, perm=[0, 2, 1, 3])\n",
        "\n",
        "    def call(self, inputs):\n",
        "         \n",
        "        batch_size = tf.shape(inputs)[0]\n",
        "        #MSA takes the queries, keys, and values  as input from the previous layer \n",
        "        #and projects them using the three linear layers.\n",
        "        query = self.query_dense(inputs)\n",
        "        key = self.key_dense(inputs)\n",
        "        value = self.value_dense(inputs)\n",
        "        query = self.separate_heads(query, batch_size)\n",
        "        key = self.separate_heads(key, batch_size)\n",
        "        value = self.separate_heads(value, batch_size)\n",
        "\n",
        "        attention, weights = self.attention(query, key, value)\n",
        "        attention = tf.transpose(attention, perm=[0, 2, 1, 3])\n",
        "        concat_attention = tf.reshape(\n",
        "            attention, (batch_size, -1, self.embed_dim)\n",
        "        )\n",
        "        #self attention of different heads are concatenated  \n",
        "        output = self.combine_heads(concat_attention)\n",
        "        return output , weights                                               "
      ]
    },
    {
      "cell_type": "code",
      "execution_count": null,
      "metadata": {
        "id": "ELPxmEgDz0qG"
      },
      "outputs": [],
      "source": [
        "class DummyLayer(tf.keras.layers.Layer):\n",
        "    def __init__(self):\n",
        "        super(DummyLayer, self).__init__()\n",
        "        # Transfromer block multi-head Self Attention\n",
        "\n",
        "    def call(self,encoded_patches,weights1):\n",
        "      return encoded_patches, weights1                                    "
      ]
    },
    {
      "cell_type": "markdown",
      "metadata": {
        "id": "BZ2QvCp8_5V4"
      },
      "source": [
        "## Define Augmentataion Layer and add Positional Embedding , ClassToken and MLP"
      ]
    },
    {
      "cell_type": "code",
      "execution_count": null,
      "metadata": {
        "id": "CI85sJWBIyjE"
      },
      "outputs": [],
      "source": [
        "data_augmentation = keras.Sequential(\n",
        "    [\n",
        "        layers.Normalization(),\n",
        "        layers.Resizing(image_size, image_size),\n",
        "        layers.RandomFlip(\"horizontal\"),\n",
        "        layers.RandomRotation(factor=0.01),\n",
        "        layers.RandomZoom(\n",
        "            height_factor=0.1, width_factor=0.1\n",
        "        ),\n",
        "        layers.RandomContrast(0.3)\n",
        "    ],\n",
        "    name=\"data_augmentation\",\n",
        ")\n",
        "# Compute the mean and the variance of the training data for normalization.\n",
        "data_augmentation.layers[0].adapt(left_train)\n",
        "data_augmentation.layers[0].adapt(right_train)"
      ]
    },
    {
      "cell_type": "code",
      "execution_count": null,
      "metadata": {
        "id": "boB-vWBaNH1M"
      },
      "outputs": [],
      "source": [
        "class AddPositionEmbsSid(tf.keras.layers.Layer):\n",
        "    \"\"\"Adds (optionally learned) positional embeddings to the inputs.\"\"\"\n",
        "\n",
        "    def build(self, input_shape):\n",
        "        assert (\n",
        "            len(input_shape) == 3\n",
        "        ), f\"Number of dimensions should be 3, got {len(input_shape)}\"\n",
        "        self.pe = tf.Variable(\n",
        "            name=\"pos_embedding\",\n",
        "            initial_value=tf.random_normal_initializer(stddev=0.06)(\n",
        "                shape=(1, input_shape[1], input_shape[2])\n",
        "            ),\n",
        "            dtype=\"float32\",\n",
        "            trainable=True,\n",
        "        )\n",
        "\n",
        "    def call(self, inputs):\n",
        "        return inputs + tf.cast(self.pe, dtype=inputs.dtype)"
      ]
    },
    {
      "cell_type": "code",
      "execution_count": null,
      "metadata": {
        "id": "GAAb000OD7KQ"
      },
      "outputs": [],
      "source": [
        "# @tf.keras.utils.register_keras_serializable()\n",
        "class ClassTokenSid(tf.keras.layers.Layer):\n",
        "    \"\"\"Append a class token to an input layer.\"\"\"\n",
        "\n",
        "    def build(self, input_shape):\n",
        "        cls_init = tf.zeros_initializer()\n",
        "        print(\"Build called\")\n",
        "        self.hidden_size = input_shape[-1]\n",
        "        self.cls = tf.Variable(\n",
        "            name=\"cls\",\n",
        "            initial_value=cls_init(shape=(1, 1, self.hidden_size), dtype=\"float32\"),\n",
        "            trainable=True,\n",
        "        )\n",
        "\n",
        "    def call(self, inputs):\n",
        "        batch_size = tf.shape(inputs)[0]\n",
        "        cls_broadcasted = tf.cast(\n",
        "            tf.broadcast_to(self.cls, [batch_size, 1, self.hidden_size]),\n",
        "            dtype=inputs.dtype,\n",
        "        )\n",
        "        return tf.concat([cls_broadcasted, inputs], 1)"
      ]
    },
    {
      "cell_type": "code",
      "execution_count": null,
      "metadata": {
        "id": "q7THOibRTsKg"
      },
      "outputs": [],
      "source": [
        "def mlp(x, hidden_units, dropout_rate):\n",
        "    for units in hidden_units:\n",
        "        x = layers.Dense(units, activation=tf.nn.gelu)(x)\n",
        "        x = layers.Dropout(dropout_rate)(x)\n",
        "    return x"
      ]
    },
    {
      "cell_type": "markdown",
      "metadata": {
        "id": "x_FAH7nRQ898"
      },
      "source": [
        "# Create Model Object for ViT Model"
      ]
    },
    {
      "cell_type": "code",
      "execution_count": null,
      "metadata": {
        "id": "zu_bc2M6C45w"
      },
      "outputs": [],
      "source": [
        "def create_vit_classifier():\n",
        "    inputs = layers.Input(shape=(image_size, image_size , 3))\n",
        "    # Augment data.\n",
        "    augmented = data_augmentation(inputs)\n",
        "    # Create patches.    \n",
        "    augmented = tf.keras.layers.Conv2D(\n",
        "        filters=projection_dim,\n",
        "        kernel_size=patch_size,\n",
        "        strides=patch_size,\n",
        "        padding=\"valid\",\n",
        "        name=\"embedding\",\n",
        "    )(inputs)\n",
        "\n",
        "    #Reshape the augemented images to projection dimension\n",
        "    y = tf.keras.layers.Reshape((augmented.shape[1] * augmented.shape[2], projection_dim))(augmented)\n",
        "    #Add the class Token\n",
        "    y = ClassTokenSid(name=\"class_token\")(y)\n",
        "    #Append the Positional Embeddings\n",
        "    encoded_patches = AddPositionEmbsSid(name=\"Transformer/posembed_input\")(y)\n",
        "    # Create multiple layers of the Transformer block.\n",
        "    \n",
        "    for _ in range(transformer_layers):\n",
        "        # Layer normalization 1.\n",
        "        x1 = layers.LayerNormalization(epsilon=1e-6)(encoded_patches)\n",
        "        # Create a multi-head attention layer.\n",
        "        attention_output , weights = MultiHeadSelfAttention(\n",
        "            num_heads=num_heads, embed_dim=projection_dim\n",
        "        )(x1)\n",
        "        # Skip connection 1.\n",
        "        x2 = layers.Add()([attention_output, encoded_patches])\n",
        "        # Layer normalization 2.\n",
        "        x3 = layers.LayerNormalization(epsilon=1e-6)(x2)\n",
        "        # MLP.\n",
        "        x3 = mlp(x3, hidden_units=transformer_units, dropout_rate=0.1)\n",
        "        # Skip connection 2.\n",
        "        encoded_patches = layers.Add()([x3, x2])\n",
        "    \n",
        "        encoded_patches , weight_final = DummyLayer()(encoded_patches,weights)\n",
        "    \n",
        "    # Create a [batch_size, projection_dim] tensor.\n",
        "    representation = layers.LayerNormalization(epsilon=1e-6)(encoded_patches)\n",
        "    representation = layers.Flatten()(representation)\n",
        "    representation = layers.Dropout(0.5)(representation)\n",
        "    # Add MLP.\n",
        "    features = mlp(representation, hidden_units=mlp_head_units, dropout_rate=0.5)\n",
        "    # Classify outputs.\n",
        "    # logits = layers.Dense(num_classes)(features)\n",
        "    # Create the Keras model.\n",
        "    model = keras.Model(inputs=inputs, outputs=features)\n",
        "    \n",
        "    return model "
      ]
    },
    {
      "cell_type": "code",
      "execution_count": null,
      "metadata": {
        "colab": {
          "base_uri": "https://localhost:8080/"
        },
        "id": "G1LjsNYv_5N-",
        "outputId": "a1037891-237e-46d7-fcc9-cf057a20bab8"
      },
      "outputs": [
        {
          "output_type": "stream",
          "name": "stdout",
          "text": [
            "Build called\n"
          ]
        }
      ],
      "source": [
        "base_densenet_model=create_vit_classifier()\n"
      ]
    },
    {
      "cell_type": "markdown",
      "source": [
        "# Create ViT Encoder Object for Pretext Task"
      ],
      "metadata": {
        "id": "aUbgrFwfQ_CN"
      }
    },
    {
      "cell_type": "code",
      "source": [
        "def create_ViTEncoder(input_shape=(224, 224, 3)):\n",
        "  # Backbone ViT model\n",
        "  backbone_model = create_vit_classifier()\n",
        "  \n",
        "  input_layer = backbone_model.input\n",
        "  \n",
        "  # pooling_layer = tf.keras.layers.AveragePooling2D()(backbone_model.output)\n",
        "  flatten_layer = tf.keras.layers.Flatten()(backbone_model.output)\n",
        "  output_layer = tf.keras.layers.Dense(16)(flatten_layer)\n",
        "\n",
        "  return Model(inputs=input_layer, outputs=output_layer)\n",
        "\n",
        "def create_ViTHealNet():\n",
        "  \n",
        "  ViTEncoder = create_ViTEncoder()\n",
        "\n",
        "  # ViT model\n",
        "  left_input = Input(shape=(224,224,3), name=\"Left input\")\n",
        "  right_input = Input(shape=(224,224,3), name=\"Right input\")\n",
        "\n",
        "  left_encoder = ViTEncoder(left_input)\n",
        "  right_encoder = ViTEncoder(right_input)\n",
        "\n",
        "  merge_layer = Concatenate()([left_encoder, right_encoder])\n",
        "  output_layer = Dense(1, activation=\"sigmoid\")(merge_layer)\n",
        "\n",
        "  vithealnet = Model(inputs=[left_input, right_input],\n",
        "                        outputs=output_layer)\n",
        "  \n",
        "  return ViTEncoder, vithealnet"
      ],
      "metadata": {
        "id": "7JKc3WjaQ-fG"
      },
      "execution_count": null,
      "outputs": []
    },
    {
      "cell_type": "code",
      "source": [
        "VIT_encoder, VIT_healnet = create_ViTHealNet()"
      ],
      "metadata": {
        "colab": {
          "base_uri": "https://localhost:8080/"
        },
        "id": "yJ5DGl7dSWP5",
        "outputId": "efd80f6c-8352-4e04-a258-784398550f3d"
      },
      "execution_count": null,
      "outputs": [
        {
          "output_type": "stream",
          "name": "stdout",
          "text": [
            "Build called\n"
          ]
        }
      ]
    },
    {
      "cell_type": "markdown",
      "metadata": {
        "id": "J-JRsKB7kB3g"
      },
      "source": [
        "#Run Experiments for Prextext Tasks"
      ]
    },
    {
      "cell_type": "markdown",
      "source": [
        "## Compile and Fit the Model"
      ],
      "metadata": {
        "id": "fBdMg2xqWozZ"
      }
    },
    {
      "cell_type": "code",
      "source": [
        "VIT_healnet.compile(optimizer=tfa.optimizers.AdamW(learning_rate=learning_rate , weight_decay=weight_decay),\n",
        "                loss=keras.losses.BinaryCrossentropy(),\n",
        "                metrics=[keras.metrics.BinaryAccuracy()])"
      ],
      "metadata": {
        "id": "0Mr8hrq4LM1_"
      },
      "execution_count": null,
      "outputs": []
    },
    {
      "cell_type": "code",
      "source": [
        "tf.data.experimental.enable_debug_mode()\n",
        "\n",
        "VIT_healnet_history = VIT_healnet.fit([left_train, right_train],\n",
        "                      labels_train,\n",
        "                      validation_data=([left_val, right_val], labels_val),\n",
        "                      verbose=1,\n",
        "                      batch_size=3,\n",
        "                      epochs=50)"
      ],
      "metadata": {
        "id": "BWi9Lsm2LRD_",
        "colab": {
          "base_uri": "https://localhost:8080/"
        },
        "outputId": "9556e3c3-a916-43af-ed72-4787293896a2"
      },
      "execution_count": null,
      "outputs": [
        {
          "output_type": "stream",
          "name": "stdout",
          "text": [
            "Epoch 1/50\n",
            "960/960 [==============================] - 49s 31ms/step - loss: 5.4221 - binary_accuracy: 0.6417 - val_loss: 0.5138 - val_binary_accuracy: 0.7333\n",
            "Epoch 2/50\n",
            "960/960 [==============================] - 28s 29ms/step - loss: 0.5516 - binary_accuracy: 0.7573 - val_loss: 0.4311 - val_binary_accuracy: 0.8156\n",
            "Epoch 3/50\n",
            "960/960 [==============================] - 29s 30ms/step - loss: 0.4947 - binary_accuracy: 0.7903 - val_loss: 0.3866 - val_binary_accuracy: 0.8244\n",
            "Epoch 4/50\n",
            "960/960 [==============================] - 29s 30ms/step - loss: 0.4486 - binary_accuracy: 0.8059 - val_loss: 0.3825 - val_binary_accuracy: 0.8444\n",
            "Epoch 5/50\n",
            "960/960 [==============================] - 28s 29ms/step - loss: 0.4188 - binary_accuracy: 0.8285 - val_loss: 0.3396 - val_binary_accuracy: 0.8400\n",
            "Epoch 6/50\n",
            "960/960 [==============================] - 28s 29ms/step - loss: 0.3821 - binary_accuracy: 0.8413 - val_loss: 0.3257 - val_binary_accuracy: 0.8578\n",
            "Epoch 7/50\n",
            "960/960 [==============================] - 28s 29ms/step - loss: 0.3443 - binary_accuracy: 0.8538 - val_loss: 0.3053 - val_binary_accuracy: 0.8622\n",
            "Epoch 8/50\n",
            "960/960 [==============================] - 28s 29ms/step - loss: 0.3548 - binary_accuracy: 0.8587 - val_loss: 0.3423 - val_binary_accuracy: 0.8422\n",
            "Epoch 9/50\n",
            "960/960 [==============================] - 28s 29ms/step - loss: 0.3156 - binary_accuracy: 0.8649 - val_loss: 0.3040 - val_binary_accuracy: 0.8689\n",
            "Epoch 10/50\n",
            "960/960 [==============================] - 28s 29ms/step - loss: 0.3100 - binary_accuracy: 0.8618 - val_loss: 0.2877 - val_binary_accuracy: 0.8844\n",
            "Epoch 11/50\n",
            "960/960 [==============================] - 28s 29ms/step - loss: 0.3306 - binary_accuracy: 0.8628 - val_loss: 0.3561 - val_binary_accuracy: 0.8578\n",
            "Epoch 12/50\n",
            "960/960 [==============================] - 28s 29ms/step - loss: 0.2854 - binary_accuracy: 0.8764 - val_loss: 0.3666 - val_binary_accuracy: 0.8689\n",
            "Epoch 13/50\n",
            "960/960 [==============================] - 28s 29ms/step - loss: 0.2761 - binary_accuracy: 0.8840 - val_loss: 0.1976 - val_binary_accuracy: 0.9311\n",
            "Epoch 14/50\n",
            "960/960 [==============================] - 28s 29ms/step - loss: 0.2596 - binary_accuracy: 0.8882 - val_loss: 0.2678 - val_binary_accuracy: 0.9044\n",
            "Epoch 15/50\n",
            "960/960 [==============================] - 28s 29ms/step - loss: 0.2394 - binary_accuracy: 0.9042 - val_loss: 0.1771 - val_binary_accuracy: 0.9489\n",
            "Epoch 16/50\n",
            "960/960 [==============================] - 28s 29ms/step - loss: 0.2347 - binary_accuracy: 0.9007 - val_loss: 0.1716 - val_binary_accuracy: 0.9222\n",
            "Epoch 17/50\n",
            "960/960 [==============================] - 28s 29ms/step - loss: 0.2260 - binary_accuracy: 0.9118 - val_loss: 0.2400 - val_binary_accuracy: 0.9089\n",
            "Epoch 18/50\n",
            "960/960 [==============================] - 28s 29ms/step - loss: 0.2369 - binary_accuracy: 0.9049 - val_loss: 0.1811 - val_binary_accuracy: 0.9267\n",
            "Epoch 19/50\n",
            "960/960 [==============================] - 28s 29ms/step - loss: 0.2209 - binary_accuracy: 0.9194 - val_loss: 0.2175 - val_binary_accuracy: 0.9267\n",
            "Epoch 20/50\n",
            "960/960 [==============================] - 28s 29ms/step - loss: 0.2275 - binary_accuracy: 0.9142 - val_loss: 0.2387 - val_binary_accuracy: 0.9289\n",
            "Epoch 21/50\n",
            "960/960 [==============================] - 28s 29ms/step - loss: 0.2203 - binary_accuracy: 0.9128 - val_loss: 0.2797 - val_binary_accuracy: 0.9111\n",
            "Epoch 22/50\n",
            "960/960 [==============================] - 28s 29ms/step - loss: 0.2214 - binary_accuracy: 0.9181 - val_loss: 0.1887 - val_binary_accuracy: 0.9356\n",
            "Epoch 23/50\n",
            "960/960 [==============================] - 28s 29ms/step - loss: 0.2150 - binary_accuracy: 0.9142 - val_loss: 0.2217 - val_binary_accuracy: 0.9311\n",
            "Epoch 24/50\n",
            "960/960 [==============================] - 28s 29ms/step - loss: 0.2038 - binary_accuracy: 0.9219 - val_loss: 0.2238 - val_binary_accuracy: 0.9356\n",
            "Epoch 25/50\n",
            "960/960 [==============================] - 28s 29ms/step - loss: 0.2103 - binary_accuracy: 0.9170 - val_loss: 0.2760 - val_binary_accuracy: 0.9067\n",
            "Epoch 26/50\n",
            "960/960 [==============================] - 28s 29ms/step - loss: 0.2207 - binary_accuracy: 0.9184 - val_loss: 0.2603 - val_binary_accuracy: 0.9156\n",
            "Epoch 27/50\n",
            "960/960 [==============================] - 28s 29ms/step - loss: 0.2052 - binary_accuracy: 0.9215 - val_loss: 0.2973 - val_binary_accuracy: 0.9044\n",
            "Epoch 28/50\n",
            "960/960 [==============================] - 28s 29ms/step - loss: 0.1972 - binary_accuracy: 0.9247 - val_loss: 0.2514 - val_binary_accuracy: 0.9267\n",
            "Epoch 29/50\n",
            "960/960 [==============================] - 28s 29ms/step - loss: 0.2125 - binary_accuracy: 0.9222 - val_loss: 0.2101 - val_binary_accuracy: 0.9311\n",
            "Epoch 30/50\n",
            "960/960 [==============================] - 28s 29ms/step - loss: 0.1901 - binary_accuracy: 0.9240 - val_loss: 0.3066 - val_binary_accuracy: 0.9111\n",
            "Epoch 31/50\n",
            "960/960 [==============================] - 28s 29ms/step - loss: 0.1919 - binary_accuracy: 0.9295 - val_loss: 0.1773 - val_binary_accuracy: 0.9289\n",
            "Epoch 32/50\n",
            "960/960 [==============================] - 28s 29ms/step - loss: 0.2003 - binary_accuracy: 0.9295 - val_loss: 0.2595 - val_binary_accuracy: 0.9222\n",
            "Epoch 33/50\n",
            "960/960 [==============================] - 28s 29ms/step - loss: 0.1806 - binary_accuracy: 0.9375 - val_loss: 0.1837 - val_binary_accuracy: 0.9267\n",
            "Epoch 34/50\n",
            "960/960 [==============================] - 28s 29ms/step - loss: 0.1988 - binary_accuracy: 0.9264 - val_loss: 0.2581 - val_binary_accuracy: 0.8978\n",
            "Epoch 35/50\n",
            "960/960 [==============================] - 28s 29ms/step - loss: 0.1909 - binary_accuracy: 0.9285 - val_loss: 0.2034 - val_binary_accuracy: 0.9267\n",
            "Epoch 36/50\n",
            "960/960 [==============================] - 28s 29ms/step - loss: 0.1917 - binary_accuracy: 0.9274 - val_loss: 0.1976 - val_binary_accuracy: 0.9378\n",
            "Epoch 37/50\n",
            "960/960 [==============================] - 28s 29ms/step - loss: 0.1912 - binary_accuracy: 0.9285 - val_loss: 0.3398 - val_binary_accuracy: 0.8889\n",
            "Epoch 38/50\n",
            "960/960 [==============================] - 28s 29ms/step - loss: 0.1932 - binary_accuracy: 0.9260 - val_loss: 0.2692 - val_binary_accuracy: 0.9222\n",
            "Epoch 39/50\n",
            "960/960 [==============================] - 28s 29ms/step - loss: 0.1773 - binary_accuracy: 0.9312 - val_loss: 0.3314 - val_binary_accuracy: 0.9133\n",
            "Epoch 40/50\n",
            "960/960 [==============================] - 28s 29ms/step - loss: 0.1908 - binary_accuracy: 0.9302 - val_loss: 0.2914 - val_binary_accuracy: 0.9044\n",
            "Epoch 41/50\n",
            "960/960 [==============================] - 28s 29ms/step - loss: 0.1921 - binary_accuracy: 0.9312 - val_loss: 0.2266 - val_binary_accuracy: 0.9244\n",
            "Epoch 42/50\n",
            "960/960 [==============================] - 28s 29ms/step - loss: 0.1780 - binary_accuracy: 0.9340 - val_loss: 0.1892 - val_binary_accuracy: 0.9356\n",
            "Epoch 43/50\n",
            "960/960 [==============================] - 28s 29ms/step - loss: 0.1910 - binary_accuracy: 0.9292 - val_loss: 0.2988 - val_binary_accuracy: 0.9178\n",
            "Epoch 44/50\n",
            "960/960 [==============================] - 28s 30ms/step - loss: 0.2030 - binary_accuracy: 0.9233 - val_loss: 0.2606 - val_binary_accuracy: 0.9089\n",
            "Epoch 45/50\n",
            "960/960 [==============================] - 28s 29ms/step - loss: 0.1735 - binary_accuracy: 0.9413 - val_loss: 0.2128 - val_binary_accuracy: 0.9244\n",
            "Epoch 46/50\n",
            "960/960 [==============================] - 28s 29ms/step - loss: 0.1995 - binary_accuracy: 0.9240 - val_loss: 0.2942 - val_binary_accuracy: 0.9133\n",
            "Epoch 47/50\n",
            "960/960 [==============================] - 28s 29ms/step - loss: 0.1913 - binary_accuracy: 0.9253 - val_loss: 0.3668 - val_binary_accuracy: 0.9000\n",
            "Epoch 48/50\n",
            "960/960 [==============================] - 28s 29ms/step - loss: 0.1771 - binary_accuracy: 0.9351 - val_loss: 0.2784 - val_binary_accuracy: 0.9156\n",
            "Epoch 49/50\n",
            "960/960 [==============================] - 28s 29ms/step - loss: 0.1828 - binary_accuracy: 0.9299 - val_loss: 0.2206 - val_binary_accuracy: 0.9133\n",
            "Epoch 50/50\n",
            "960/960 [==============================] - 28s 29ms/step - loss: 0.1765 - binary_accuracy: 0.9340 - val_loss: 0.1873 - val_binary_accuracy: 0.9333\n"
          ]
        }
      ]
    },
    {
      "cell_type": "markdown",
      "source": [
        "## Graphs and Test Accuracy on Pretext Task"
      ],
      "metadata": {
        "id": "E3TXhp1mwrex"
      }
    },
    {
      "cell_type": "code",
      "execution_count": null,
      "metadata": {
        "id": "rtIfPiwtaLZV",
        "colab": {
          "base_uri": "https://localhost:8080/",
          "height": 281
        },
        "outputId": "e7fdd8f0-03c6-4bd9-bbff-626c3e107f3b"
      },
      "outputs": [
        {
          "output_type": "display_data",
          "data": {
            "text/plain": [
              "<Figure size 432x288 with 1 Axes>"
            ],
            "image/png": "[encoded data removed]"
          },
          "metadata": {
            "needs_background": "light"
          }
        }
      ],
      "source": [
        "# summarize history for accuracy\n",
        "plt.plot(VIT_healnet_history.history['binary_accuracy'])\n",
        "plt.plot(VIT_healnet_history.history['val_binary_accuracy'])\n",
        "plt.title('Accuracy for clasifying positive and negative pairs in Pretext Task')\n",
        "plt.legend(['train', 'val'], loc='right')\n",
        "plt.show()"
      ]
    },
    {
      "cell_type": "code",
      "execution_count": null,
      "metadata": {
        "id": "HOBkzks-XxkA",
        "colab": {
          "base_uri": "https://localhost:8080/",
          "height": 281
        },
        "outputId": "b807b678-b93b-442d-d204-cc245880053c"
      },
      "outputs": [
        {
          "output_type": "display_data",
          "data": {
            "text/plain": [
              "<Figure size 432x288 with 1 Axes>"
            ],
            "image/png": "[encoded data removed]"
          },
          "metadata": {
            "needs_background": "light"
          }
        }
      ],
      "source": [
        "# summarize history for loss\n",
        "plt.plot(VIT_healnet_history.history['loss'])\n",
        "plt.plot(VIT_healnet_history.history['val_loss'])\n",
        "plt.title('Loss on trainng and testing in Epochs')\n",
        "plt.legend(['train', 'test'], loc='right')\n",
        "plt.show()"
      ]
    },
    {
      "cell_type": "code",
      "source": [
        "loss, acc = VIT_healnet.evaluate([left_test, right_test], labels_test, verbose=1)\n",
        "print(\"Accuracy: {:5.2f}%\".format(100 * acc))"
      ],
      "metadata": {
        "colab": {
          "base_uri": "https://localhost:8080/"
        },
        "id": "_MuTmUFS9838",
        "outputId": "0792f63b-8c9a-409c-ccc5-c72fd972738f"
      },
      "execution_count": null,
      "outputs": [
        {
          "output_type": "stream",
          "name": "stdout",
          "text": [
            "15/15 [==============================] - 2s 28ms/step - loss: 0.4952 - binary_accuracy: 0.8354\n",
            "Accuracy: 83.54%\n"
          ]
        }
      ]
    },
    {
      "cell_type": "markdown",
      "source": [
        "# Display patches"
      ],
      "metadata": {
        "id": "6qRtFNAn8nIS"
      }
    },
    {
      "cell_type": "code",
      "source": [
        "import matplotlib.pyplot as plt\n",
        "\n",
        "plt.figure(figsize=(4, 4))\n",
        "image = right_train[58]\n",
        "plt.imshow(image.astype(\"uint8\"))\n",
        "plt.axis(\"off\")\n",
        "plt.savefig('original_image_1.png' , bbox_inches='tight',pad_inches = 0)\n",
        "# resized_image = tf.image.resize(\n",
        "#     tf.convert_to_tensor([image]), size=(image_size, image_size)\n",
        "# )\n",
        "# patches = Patches(patch_size)(resized_image)\n",
        "# print(f\"Image size: {image_size} X {image_size}\")\n",
        "# print(f\"Patch size: {patch_size} X {patch_size}\")\n",
        "# print(f\"Patches per image: {patches.shape[1]}\")\n",
        "# print(f\"Elements per patch: {patches.shape[-1]}\")\n",
        "\n",
        "# n = int(np.sqrt(patches.shape[1]))\n",
        "# plt.figure(figsize=(4, 4))\n",
        "# for i, patch in enumerate(patches[0]):\n",
        "#     ax = plt.subplot(n, n, i + 1)\n",
        "#     patch_img = tf.reshape(patch, (patch_size, patch_size, 3))\n",
        "#     plt.imshow(patch_img.numpy().astype(\"uint8\"))\n",
        "#     plt.axis(\"off\")\n",
        "\n",
        "# plt.savefig('patched_image_1.png' , bbox_inches='tight',pad_inches = 0)"
      ],
      "metadata": {
        "colab": {
          "base_uri": "https://localhost:8080/",
          "height": 248
        },
        "id": "wNSoZHI58lqz",
        "outputId": "d134895c-4c4b-4030-821f-a24b7bf1b62e"
      },
      "execution_count": null,
      "outputs": [
        {
          "output_type": "display_data",
          "data": {
            "text/plain": [
              "<Figure size 288x288 with 1 Axes>"
            ],
            "image/png": "[encoded data removed]"
          },
          "metadata": {
            "needs_background": "light"
          }
        }
      ]
    },
    {
      "cell_type": "markdown",
      "source": [
        "# Clustering Process from ViT Encoder"
      ],
      "metadata": {
        "id": "Vka3t_IFBOJm"
      }
    },
    {
      "cell_type": "markdown",
      "source": [
        "## Create function to get predictions on test,val,train set based on embedding"
      ],
      "metadata": {
        "id": "Mxc-K2BIzS8a"
      }
    },
    {
      "cell_type": "code",
      "source": [
        "def create_features_common(i:str):\n",
        "  all_preds = []\n",
        "  \n",
        "  dir='/content/drive/MyDrive/Wound_images/'+ i +'/'\n",
        "  dir_new ='/content/drive/MyDrive/Circle_Cropped_images_Sid/'\n",
        "\n",
        "  file_list=os.listdir(dir)\n",
        "  \n",
        "  for file in file_list:\n",
        "\n",
        "    path=dir_new+file\n",
        "\n",
        "    img = pil_loader(path)\n",
        "\n",
        "    img=tf.expand_dims(img, axis=0)\n",
        "\n",
        "    pred=VIT_encoder.predict(img)\n",
        "    \n",
        "    all_preds.append(pred[0])\n",
        "\n",
        "  return np.array(all_preds)"
      ],
      "metadata": {
        "id": "-1pMSfVS9kks"
      },
      "execution_count": null,
      "outputs": []
    },
    {
      "cell_type": "markdown",
      "source": [
        "## Get all predictions from ViT Encoder"
      ],
      "metadata": {
        "id": "ndRr0AkY-yrX"
      }
    },
    {
      "cell_type": "code",
      "source": [
        "train_embeddings=create_features_common('train')\n",
        "test_embeddings=create_features_common('test')\n",
        "val_embeddings=create_features_common('val')"
      ],
      "metadata": {
        "id": "AQDuNmny-l0m"
      },
      "execution_count": null,
      "outputs": []
    },
    {
      "cell_type": "code",
      "source": [
        "print(\"Train Embedding are \",train_embeddings.shape)\n",
        "print(\"Test Embedding are \" ,test_embeddings.shape)\n",
        "print(\"Val Embedding are \" ,val_embeddings.shape)"
      ],
      "metadata": {
        "colab": {
          "base_uri": "https://localhost:8080/"
        },
        "id": "Yhh9OoPfBbfH",
        "outputId": "beea5ff6-5bd0-4696-e078-0219f236d282"
      },
      "execution_count": null,
      "outputs": [
        {
          "output_type": "stream",
          "name": "stdout",
          "text": [
            "Train Embedding are  (191, 16)\n",
            "Test Embedding are  (32, 16)\n",
            "Val Embedding are  (32, 16)\n"
          ]
        }
      ]
    },
    {
      "cell_type": "markdown",
      "source": [
        "## Perform Kmeans Clustering"
      ],
      "metadata": {
        "id": "MqYStjE4cLJY"
      }
    },
    {
      "cell_type": "code",
      "source": [
        "from sklearn.cluster import KMeans\n",
        "from sklearn import decomposition\n",
        "from sklearn import datasets\n",
        "import pandas as pd\n",
        "import seaborn as sns\n",
        "import matplotlib.pyplot as plt\n",
        "\n",
        "# Fit K-means Clusters on train embeddings\n",
        "kmeans = KMeans(n_clusters=4, random_state=0).fit(train_embeddings)\n",
        "print(\"Predicted train labels:\", kmeans.labels_)\n",
        "# Cluster test embeddings\n",
        "print(\"Predicted test labels:\", kmeans.predict(test_embeddings))"
      ],
      "metadata": {
        "id": "Wh-xPGjK-n1x",
        "colab": {
          "base_uri": "https://localhost:8080/"
        },
        "outputId": "df972abc-f793-4240-c473-2e197203350b"
      },
      "execution_count": null,
      "outputs": [
        {
          "output_type": "stream",
          "name": "stdout",
          "text": [
            "Predicted train labels: [0 3 3 3 3 0 0 2 2 3 3 2 0 2 3 2 3 1 2 1 2 2 2 1 1 1 2 2 2 2 1 1 2 1 1 1 1\n",
            " 2 2 1 2 2 2 1 1 1 2 1 1 1 1 1 2 1 1 1 1 2 1 1 1 1 2 2 1 1 2 1 1 1 2 1 1 1\n",
            " 1 1 1 3 3 0 3 0 1 0 1 0 1 2 2 0 0 0 0 0 0 0 0 0 0 0 0 0 0 0 0 0 0 3 0 0 0\n",
            " 0 0 0 0 0 0 0 0 2 2 0 0 0 0 0 2 0 0 2 0 2 2 2 2 2 0 0 2 2 2 2 2 2 2 2 2 2\n",
            " 2 2 2 2 2 2 2 2 2 2 2 2 2 2 2 2 2 2 2 2 2 2 2 2 2 2 2 2 2 2 2 2 2 2 2 2 2\n",
            " 2 1 2 2 1 1]\n",
            "Predicted test labels: [3 2 3 1 1 1 2 1 1 1 1 1 1 0 1 3 3 0 0 2 0 0 0 2 0 2 2 2 2 2 2 1]\n"
          ]
        }
      ]
    },
    {
      "cell_type": "code",
      "source": [
        "cluster_group_train=kmeans.labels_\n",
        "cluster_group_test=kmeans.predict(test_embeddings)\n",
        "cluster_group_val=kmeans.predict(val_embeddings)"
      ],
      "metadata": {
        "id": "kxngnNufkRKu"
      },
      "execution_count": null,
      "outputs": []
    },
    {
      "cell_type": "markdown",
      "source": [
        "## View Clusters"
      ],
      "metadata": {
        "id": "zStGCWsGokiW"
      }
    },
    {
      "cell_type": "code",
      "source": [
        "# Fit PCA on Test embeddings\n",
        "pca = decomposition.PCA(n_components=2)\n",
        "pca.fit(train_embeddings)\n",
        "\n",
        "# Plot Train Data PCA\n",
        "X = pca.transform(train_embeddings)\n",
        "df = pd.DataFrame(X,columns=['pca-one', 'pca-two'])\n",
        "df['y'] = kmeans.labels_\n",
        "plt.figure(figsize=(10,10));\n",
        "sns.scatterplot(\n",
        "    x=\"pca-one\", y=\"pca-two\",\n",
        "    hue=\"y\",\n",
        "    palette=sns.color_palette(\"hls\", 4),\n",
        "    data=df,\n",
        "    legend=\"full\",\n",
        "    alpha=0.9\n",
        ")\n"
      ],
      "metadata": {
        "id": "zNS1XmsbBYR0",
        "colab": {
          "base_uri": "https://localhost:8080/",
          "height": 624
        },
        "outputId": "e001aaf4-44a0-4186-ba3f-27ae12ecb0d8"
      },
      "execution_count": null,
      "outputs": [
        {
          "output_type": "execute_result",
          "data": {
            "text/plain": [
              "<matplotlib.axes._subplots.AxesSubplot at 0x7f25b19c3e10>"
            ]
          },
          "metadata": {},
          "execution_count": 52
        },
        {
          "output_type": "display_data",
          "data": {
            "text/plain": [
              "<Figure size 720x720 with 1 Axes>"
            ],
            "image/png": "[encoded data removed]"
          },
          "metadata": {
            "needs_background": "light"
          }
        }
      ]
    },
    {
      "cell_type": "code",
      "source": [
        "# Plot test Data PCA\n",
        "X = pca.transform(test_embeddings)\n",
        "df = pd.DataFrame(X,columns=['pca-one', 'pca-two'])\n",
        "df['y'] = kmeans.predict(test_embeddings)\n",
        "plt.figure(figsize=(10,10))\n",
        "sns.scatterplot(\n",
        "    x=\"pca-one\", y=\"pca-two\",\n",
        "    hue=\"y\",\n",
        "    palette=sns.color_palette(\"hls\", 4),\n",
        "    data=df,\n",
        "    legend=\"full\",\n",
        "    alpha=0.9\n",
        ")"
      ],
      "metadata": {
        "id": "zst8KvB7DLOP",
        "colab": {
          "base_uri": "https://localhost:8080/",
          "height": 624
        },
        "outputId": "a17f42b2-f3e6-48c0-b4dd-7f9eae90abf3"
      },
      "execution_count": null,
      "outputs": [
        {
          "output_type": "execute_result",
          "data": {
            "text/plain": [
              "<matplotlib.axes._subplots.AxesSubplot at 0x7f25ab596a50>"
            ]
          },
          "metadata": {},
          "execution_count": 53
        },
        {
          "output_type": "display_data",
          "data": {
            "text/plain": [
              "<Figure size 720x720 with 1 Axes>"
            ],
            "image/png": "[encoded data removed]"
          },
          "metadata": {
            "needs_background": "light"
          }
        }
      ]
    },
    {
      "cell_type": "code",
      "source": [
        "train_labels = kmeans.predict(train_embeddings)\n",
        "test_labels = kmeans.predict(test_embeddings)\n",
        "val_labels = kmeans.predict(val_embeddings)"
      ],
      "metadata": {
        "id": "5nUpqDE7DQZ0"
      },
      "execution_count": null,
      "outputs": []
    },
    {
      "cell_type": "code",
      "source": [
        "print(train_labels.shape)"
      ],
      "metadata": {
        "colab": {
          "base_uri": "https://localhost:8080/"
        },
        "id": "b1LslnNuPvmZ",
        "outputId": "62359b22-b7de-4938-b518-afd41fa184a4"
      },
      "execution_count": null,
      "outputs": [
        {
          "output_type": "stream",
          "name": "stdout",
          "text": [
            "(191,)\n"
          ]
        }
      ]
    },
    {
      "cell_type": "markdown",
      "source": [
        "#Create Image - Label Pair with Clusters Created for Test , Val , Train set\n"
      ],
      "metadata": {
        "id": "qdKTL2Tfj2mc"
      }
    },
    {
      "cell_type": "code",
      "source": [
        "def clustered_label_pair(i:str):\n",
        "  image_labels = []\n",
        "  \n",
        "  image_list=[]\n",
        "  \n",
        "  dir='/content/drive/MyDrive/Wound_images/'+ i +'/'\n",
        "  dir_new ='/content/drive/MyDrive/Circle_Cropped_images_Sid/'\n",
        "  \n",
        "  file_list=os.listdir(dir)\n",
        "  \n",
        "  count=0\n",
        "  \n",
        "  for file in file_list: \n",
        "    if i==\"train\":\n",
        "      image=pil_loader(dir_new+file)\n",
        "      label=train_labels[count]\n",
        "\n",
        "      image_list.append(image)\n",
        "      image_labels.append(label)\n",
        "    \n",
        "    elif i==\"val\":\n",
        "      # print(\"inside val\")\n",
        "      image=pil_loader(dir_new+file)\n",
        "      label=val_labels[count]\n",
        "\n",
        "      image_list.append(image)\n",
        "      image_labels.append(label)\n",
        "\n",
        "    elif i==\"test\":\n",
        "      # print(\"inside test\")\n",
        "      image=pil_loader(dir_new+file)\n",
        "      label=test_labels[count]\n",
        "\n",
        "      image_list.append(image)\n",
        "      image_labels.append(label)\n",
        "\n",
        "    count+=1\n",
        "\n",
        "  return np.array(image_list) , np.array(image_labels).astype('float32').reshape((-1,1))"
      ],
      "metadata": {
        "id": "yjFW0z6DPxQI"
      },
      "execution_count": null,
      "outputs": []
    },
    {
      "cell_type": "code",
      "source": [
        "train_clustered_images , train_clustered_labels = clustered_label_pair('train')\n",
        "test_clustered_images , test_clustered_labels = clustered_label_pair('test')\n",
        "val_clustered_images , val_clustered_labels = clustered_label_pair('val')"
      ],
      "metadata": {
        "id": "sf98dBFmq1bR"
      },
      "execution_count": null,
      "outputs": []
    },
    {
      "cell_type": "markdown",
      "source": [
        "# Create Classifier and Compile and Run it"
      ],
      "metadata": {
        "id": "qHDju5M3enc_"
      }
    },
    {
      "cell_type": "markdown",
      "source": [
        "## Create Downstream Classifier Using the Clustering Labels"
      ],
      "metadata": {
        "id": "bI8OMB4J3eRn"
      }
    },
    {
      "cell_type": "code",
      "source": [
        "num_classes=4\n",
        "\n",
        "def downstream_classifier():\n",
        "  pretext_trained_ViT= VIT_encoder\n",
        "  \n",
        "  output_layer = tf.keras.layers.Dense(4)(pretext_trained_ViT.output)\n",
        "  return Model(inputs=pretext_trained_ViT.input , outputs=output_layer)"
      ],
      "metadata": {
        "id": "OwatJn-u3eRp"
      },
      "execution_count": null,
      "outputs": []
    },
    {
      "cell_type": "code",
      "source": [
        "downstream_model_clustered=downstream_classifier()"
      ],
      "metadata": {
        "id": "5a_luKqM3eRr"
      },
      "execution_count": null,
      "outputs": []
    },
    {
      "cell_type": "markdown",
      "source": [
        "## Compile and Run Downstream Using CLustering Labels"
      ],
      "metadata": {
        "id": "8fLh6pqK3eRu"
      }
    },
    {
      "cell_type": "code",
      "source": [
        "downstream_model_clustered.compile(optimizer=tfa.optimizers.AdamW(learning_rate=0.001, weight_decay=weight_decay),\n",
        "                loss=keras.losses.SparseCategoricalCrossentropy(from_logits=True),\n",
        "                metrics=[keras.metrics.SparseCategoricalAccuracy(name=\"accuracy\")])"
      ],
      "metadata": {
        "id": "nkMcaI0W3eRv"
      },
      "execution_count": null,
      "outputs": []
    },
    {
      "cell_type": "code",
      "source": [
        "tf.data.experimental.enable_debug_mode()\n",
        "\n",
        "downstream_model_clustered_history = downstream_model_clustered.fit(train_clustered_images,\n",
        "                      train_clustered_labels,\n",
        "                      validation_data=(val_clustered_images, val_clustered_labels),\n",
        "                      verbose=1,\n",
        "                      batch_size=8,\n",
        "                      epochs=50)"
      ],
      "metadata": {
        "id": "4ipuI79M3eRw",
        "colab": {
          "base_uri": "https://localhost:8080/"
        },
        "outputId": "58a2afd3-e3b9-4777-ef32-899d531ab717"
      },
      "execution_count": null,
      "outputs": [
        {
          "output_type": "stream",
          "name": "stdout",
          "text": [
            "Epoch 1/50\n",
            "24/24 [==============================] - 7s 63ms/step - loss: 7.9456 - accuracy: 0.5654 - val_loss: 0.8268 - val_accuracy: 0.7812\n",
            "Epoch 2/50\n",
            "24/24 [==============================] - 1s 30ms/step - loss: 1.2263 - accuracy: 0.6597 - val_loss: 0.5467 - val_accuracy: 0.6875\n",
            "Epoch 3/50\n",
            "24/24 [==============================] - 1s 31ms/step - loss: 0.6734 - accuracy: 0.7644 - val_loss: 0.2258 - val_accuracy: 0.9375\n",
            "Epoch 4/50\n",
            "24/24 [==============================] - 1s 32ms/step - loss: 0.6595 - accuracy: 0.7592 - val_loss: 0.7326 - val_accuracy: 0.8125\n",
            "Epoch 5/50\n",
            "24/24 [==============================] - 1s 31ms/step - loss: 0.5644 - accuracy: 0.8168 - val_loss: 0.3426 - val_accuracy: 0.8750\n",
            "Epoch 6/50\n",
            "24/24 [==============================] - 1s 31ms/step - loss: 0.4960 - accuracy: 0.8325 - val_loss: 0.2515 - val_accuracy: 0.8750\n",
            "Epoch 7/50\n",
            "24/24 [==============================] - 1s 31ms/step - loss: 0.5378 - accuracy: 0.8325 - val_loss: 0.7501 - val_accuracy: 0.8125\n",
            "Epoch 8/50\n",
            "24/24 [==============================] - 1s 31ms/step - loss: 0.6885 - accuracy: 0.7644 - val_loss: 0.6483 - val_accuracy: 0.7812\n",
            "Epoch 9/50\n",
            "24/24 [==============================] - 1s 32ms/step - loss: 0.6589 - accuracy: 0.7801 - val_loss: 0.5996 - val_accuracy: 0.8438\n",
            "Epoch 10/50\n",
            "24/24 [==============================] - 1s 31ms/step - loss: 0.4872 - accuracy: 0.8115 - val_loss: 0.2305 - val_accuracy: 0.8438\n",
            "Epoch 11/50\n",
            "24/24 [==============================] - 1s 30ms/step - loss: 0.3415 - accuracy: 0.8848 - val_loss: 0.2239 - val_accuracy: 0.9062\n",
            "Epoch 12/50\n",
            "24/24 [==============================] - 1s 32ms/step - loss: 0.3878 - accuracy: 0.8639 - val_loss: 0.1316 - val_accuracy: 0.9688\n",
            "Epoch 13/50\n",
            "24/24 [==============================] - 1s 32ms/step - loss: 0.2616 - accuracy: 0.8848 - val_loss: 0.1159 - val_accuracy: 0.9688\n",
            "Epoch 14/50\n",
            "24/24 [==============================] - 1s 31ms/step - loss: 0.2873 - accuracy: 0.8848 - val_loss: 0.4355 - val_accuracy: 0.8750\n",
            "Epoch 15/50\n",
            "24/24 [==============================] - 1s 32ms/step - loss: 0.2579 - accuracy: 0.8953 - val_loss: 0.5011 - val_accuracy: 0.8125\n",
            "Epoch 16/50\n",
            "24/24 [==============================] - 1s 32ms/step - loss: 0.1716 - accuracy: 0.9319 - val_loss: 0.5768 - val_accuracy: 0.9688\n",
            "Epoch 17/50\n",
            "24/24 [==============================] - 1s 32ms/step - loss: 0.3687 - accuracy: 0.8848 - val_loss: 0.6390 - val_accuracy: 0.8750\n",
            "Epoch 18/50\n",
            "24/24 [==============================] - 1s 30ms/step - loss: 0.4359 - accuracy: 0.8429 - val_loss: 0.4531 - val_accuracy: 0.7812\n",
            "Epoch 19/50\n",
            "24/24 [==============================] - 1s 31ms/step - loss: 0.2438 - accuracy: 0.9424 - val_loss: 0.3169 - val_accuracy: 0.9375\n",
            "Epoch 20/50\n",
            "24/24 [==============================] - 1s 31ms/step - loss: 0.3536 - accuracy: 0.8953 - val_loss: 0.1414 - val_accuracy: 0.9062\n",
            "Epoch 21/50\n",
            "24/24 [==============================] - 1s 32ms/step - loss: 0.1338 - accuracy: 0.9372 - val_loss: 0.4703 - val_accuracy: 0.9375\n",
            "Epoch 22/50\n",
            "24/24 [==============================] - 1s 31ms/step - loss: 0.1969 - accuracy: 0.9424 - val_loss: 0.2408 - val_accuracy: 0.9375\n",
            "Epoch 23/50\n",
            "24/24 [==============================] - 1s 31ms/step - loss: 0.2338 - accuracy: 0.9267 - val_loss: 0.4512 - val_accuracy: 0.9688\n",
            "Epoch 24/50\n",
            "24/24 [==============================] - 1s 31ms/step - loss: 0.1628 - accuracy: 0.9581 - val_loss: 0.3545 - val_accuracy: 0.9062\n",
            "Epoch 25/50\n",
            "24/24 [==============================] - 1s 31ms/step - loss: 0.3193 - accuracy: 0.9005 - val_loss: 0.1755 - val_accuracy: 0.8750\n",
            "Epoch 26/50\n",
            "24/24 [==============================] - 1s 31ms/step - loss: 0.2431 - accuracy: 0.9005 - val_loss: 1.0467 - val_accuracy: 0.7500\n",
            "Epoch 27/50\n",
            "24/24 [==============================] - 1s 31ms/step - loss: 0.1856 - accuracy: 0.9319 - val_loss: 0.4632 - val_accuracy: 0.9375\n",
            "Epoch 28/50\n",
            "24/24 [==============================] - 1s 30ms/step - loss: 0.1549 - accuracy: 0.9476 - val_loss: 0.5860 - val_accuracy: 0.8438\n",
            "Epoch 29/50\n",
            "24/24 [==============================] - 1s 31ms/step - loss: 0.0816 - accuracy: 0.9686 - val_loss: 0.3348 - val_accuracy: 0.9375\n",
            "Epoch 30/50\n",
            "24/24 [==============================] - 1s 31ms/step - loss: 0.1073 - accuracy: 0.9634 - val_loss: 0.1848 - val_accuracy: 0.9062\n",
            "Epoch 31/50\n",
            "24/24 [==============================] - 1s 31ms/step - loss: 0.0610 - accuracy: 0.9791 - val_loss: 0.4177 - val_accuracy: 0.9062\n",
            "Epoch 32/50\n",
            "24/24 [==============================] - 1s 31ms/step - loss: 0.1283 - accuracy: 0.9581 - val_loss: 0.6173 - val_accuracy: 0.8125\n",
            "Epoch 33/50\n",
            "24/24 [==============================] - 1s 31ms/step - loss: 0.2397 - accuracy: 0.9319 - val_loss: 0.5639 - val_accuracy: 0.8125\n",
            "Epoch 34/50\n",
            "24/24 [==============================] - 1s 31ms/step - loss: 0.1080 - accuracy: 0.9581 - val_loss: 0.4554 - val_accuracy: 0.9062\n",
            "Epoch 35/50\n",
            "24/24 [==============================] - 1s 31ms/step - loss: 0.0890 - accuracy: 0.9634 - val_loss: 0.3330 - val_accuracy: 0.8750\n",
            "Epoch 36/50\n",
            "24/24 [==============================] - 1s 31ms/step - loss: 0.0565 - accuracy: 0.9738 - val_loss: 0.3323 - val_accuracy: 0.9375\n",
            "Epoch 37/50\n",
            "24/24 [==============================] - 1s 31ms/step - loss: 0.1077 - accuracy: 0.9686 - val_loss: 0.6843 - val_accuracy: 0.9062\n",
            "Epoch 38/50\n",
            "24/24 [==============================] - 1s 31ms/step - loss: 0.1010 - accuracy: 0.9686 - val_loss: 0.9892 - val_accuracy: 0.8750\n",
            "Epoch 39/50\n",
            "24/24 [==============================] - 1s 31ms/step - loss: 0.2240 - accuracy: 0.9162 - val_loss: 0.6121 - val_accuracy: 0.9062\n",
            "Epoch 40/50\n",
            "24/24 [==============================] - 1s 31ms/step - loss: 0.1530 - accuracy: 0.9372 - val_loss: 0.7761 - val_accuracy: 0.8750\n",
            "Epoch 41/50\n",
            "24/24 [==============================] - 1s 30ms/step - loss: 0.1373 - accuracy: 0.9686 - val_loss: 0.3447 - val_accuracy: 0.9375\n",
            "Epoch 42/50\n",
            "24/24 [==============================] - 1s 31ms/step - loss: 0.0559 - accuracy: 0.9791 - val_loss: 1.3113 - val_accuracy: 0.8125\n",
            "Epoch 43/50\n",
            "24/24 [==============================] - 1s 31ms/step - loss: 0.1604 - accuracy: 0.9581 - val_loss: 0.8900 - val_accuracy: 0.8438\n",
            "Epoch 44/50\n",
            "24/24 [==============================] - 1s 31ms/step - loss: 0.3020 - accuracy: 0.9424 - val_loss: 0.3179 - val_accuracy: 0.9375\n",
            "Epoch 45/50\n",
            "24/24 [==============================] - 1s 31ms/step - loss: 0.2514 - accuracy: 0.9215 - val_loss: 0.5738 - val_accuracy: 0.8438\n",
            "Epoch 46/50\n",
            "24/24 [==============================] - 1s 31ms/step - loss: 0.2313 - accuracy: 0.9476 - val_loss: 0.4606 - val_accuracy: 0.9062\n",
            "Epoch 47/50\n",
            "24/24 [==============================] - 1s 31ms/step - loss: 0.1810 - accuracy: 0.9476 - val_loss: 0.5823 - val_accuracy: 0.8750\n",
            "Epoch 48/50\n",
            "24/24 [==============================] - 1s 31ms/step - loss: 0.0643 - accuracy: 0.9738 - val_loss: 0.9662 - val_accuracy: 0.8125\n",
            "Epoch 49/50\n",
            "24/24 [==============================] - 1s 31ms/step - loss: 0.0752 - accuracy: 0.9843 - val_loss: 0.7638 - val_accuracy: 0.8438\n",
            "Epoch 50/50\n",
            "24/24 [==============================] - 1s 31ms/step - loss: 0.0571 - accuracy: 0.9843 - val_loss: 0.6463 - val_accuracy: 0.8750\n"
          ]
        }
      ]
    },
    {
      "cell_type": "code",
      "source": [
        "_, accuracy = downstream_model_clustered.evaluate(test_clustered_images, test_clustered_labels)\n",
        "print(f\"Test accuracy: {round(accuracy * 100, 2)}%\")"
      ],
      "metadata": {
        "id": "kNFdD8fw3eRy",
        "colab": {
          "base_uri": "https://localhost:8080/"
        },
        "outputId": "3c936e79-cabc-440f-ec79-7daad434ace1"
      },
      "execution_count": null,
      "outputs": [
        {
          "output_type": "stream",
          "name": "stdout",
          "text": [
            "1/1 [==============================] - 1s 641ms/step - loss: 0.5594 - accuracy: 0.8750\n",
            "Test accuracy: 87.5%\n"
          ]
        }
      ]
    },
    {
      "cell_type": "markdown",
      "source": [
        "# View Maps for Clustered Images"
      ],
      "metadata": {
        "id": "nO8u3FlmlZMv"
      }
    },
    {
      "cell_type": "markdown",
      "source": [
        "## View Maps"
      ],
      "metadata": {
        "id": "cFto6CqLldeN"
      }
    },
    {
      "cell_type": "code",
      "source": [
        "import cv2\n",
        "import numpy as np\n",
        "import tensorflow as tf\n",
        "# from . import layers, vit\n",
        "\n",
        "\n",
        "def attention_map(model, image):\n",
        "    \"\"\"Get an attention map for an image and model using the technique\n",
        "    described in Appendix D.7 in the paper (unofficial).\n",
        "    Args:\n",
        "        model: A ViT model\n",
        "        image: An image for which we will compute the attention map.\n",
        "    \"\"\"\n",
        "    \n",
        "    \n",
        "    size = model.input_shape[1]\n",
        "    \n",
        "    grid_size = int(np.sqrt(model.layers[14].output_shape[0][-2] - 1))\n",
        "    \n",
        "    img1=cv2.resize(image, (size, size))\n",
        "    X= img1[np.newaxis, :]\n",
        "    # Get the attention weights from each transformer.\n",
        "    outputs = [\n",
        "        l.output[1] for l in model.layers if isinstance(l, DummyLayer)\n",
        "    ]\n",
        "\n",
        "    weights = np.array(\n",
        "        tf.keras.models.Model(inputs=model.inputs, outputs=outputs).predict(X)\n",
        "    )\n",
        "    \n",
        "    \n",
        "    num_layers = weights.shape[0]\n",
        "    num_heads = weights.shape[2]\n",
        "    \n",
        "    reshaped = weights.reshape(\n",
        "        (num_layers, num_heads, grid_size ** 2 + 1, grid_size ** 2 + 1 )\n",
        "    )\n",
        "    \n",
        "    # From Appendix D.6 in the paper ...\n",
        "    # Average the attention weights across all heads.\n",
        "    reshaped = reshaped.mean(axis=1)\n",
        "\n",
        "    # From Section 3 in https://arxiv.org/pdf/2005.00928.pdf ...\n",
        "    # To account for residual connections, we add an identity matrix to the\n",
        "    # attention matrix and re-normalize the weights.\n",
        "    reshaped = reshaped + np.eye(reshaped.shape[2])\n",
        "    reshaped = reshaped / reshaped.sum(axis=(1, 2))[:, np.newaxis, np.newaxis]\n",
        "    \n",
        "    v = reshaped[-1]\n",
        "    for n in range(1, len(reshaped)):\n",
        "        v = np.matmul(v, reshaped[-1 - n])\n",
        "\n",
        "\n",
        "    get_mask=True\n",
        "    # Attention from the output token to the input space.\n",
        "    mask = v[0, 1:].reshape(grid_size, grid_size)\n",
        "\n",
        "    if get_mask:\n",
        "      result = cv2.resize(mask / mask.max(), (image_size,image_size))\n",
        "    else:\n",
        "      mask = cv2.resize(mask / mask.max(), (image.shape[1], image.shape[0]))[\n",
        "          ..., np.newaxis\n",
        "          ]\n",
        "      result= (mask * image).astype(\"uint8\")\n",
        "\n",
        "    return result\n",
        "\n",
        "dir_new ='/content/drive/MyDrive/Circle_Cropped_images_Sid/'\n",
        "#Change at line 70 for testing files in training ,validation and test set\n",
        "test_file_list= os.listdir('/content/drive/MyDrive/Wound_images/test/')\n",
        "#Change at line 71 for checking with different wound images , like 19,20,21,22.......\n",
        "new_file=dir_new+test_file_list[19]\n",
        "\n",
        "#Prints the file which we are seeing\n",
        "print(new_file)\n",
        "img = PIL.Image.open(new_file)\n",
        "image = np.array(img)\n",
        "image = cv2.resize(image, (image_size,image_size))\n",
        "\n",
        "attention_map = attention_map(model=downstream_model_clustered, image=image)\n",
        "fig,(ax1,ax2) = plt.subplots(ncols=2,figsize=(4,4))\n",
        "\n",
        "\n",
        "ax1.axis('off')\n",
        "ax2.axis('off')\n",
        "\n",
        "_ = ax1.imshow(image)\n",
        "_ = ax2.imshow(attention_map)\n"
      ],
      "metadata": {
        "colab": {
          "base_uri": "https://localhost:8080/",
          "height": 150
        },
        "outputId": "e312f98e-2537-481f-cd17-8893cdccdede",
        "id": "mtBBDAbNldeO"
      },
      "execution_count": null,
      "outputs": [
        {
          "output_type": "stream",
          "name": "stdout",
          "text": [
            "/content/drive/MyDrive/Circle_Cropped_images_Sid/Day 4_A8-4-R.png\n"
          ]
        },
        {
          "output_type": "display_data",
          "data": {
            "text/plain": [
              "<Figure size 288x288 with 2 Axes>"
            ],
            "image/png": "[encoded data removed]"
          },
          "metadata": {
            "needs_background": "light"
          }
        }
      ]
    },
    {
      "cell_type": "markdown",
      "source": [
        ""
      ],
      "metadata": {
        "id": "ukCjAwSoC_jo"
      }
    },
    {
      "cell_type": "markdown",
      "source": [
        "## View and Save only original Image"
      ],
      "metadata": {
        "id": "pQkFvQaEldeQ"
      }
    },
    {
      "cell_type": "code",
      "source": [
        "import cv2\n",
        "import numpy as np\n",
        "import tensorflow as tf\n",
        "\n",
        "\n",
        "def attention_map(model, image):\n",
        "    \"\"\"Get an attention map for an image and model using the technique\n",
        "    described in Appendix D.7 in the paper (unofficial).\n",
        "    Args:\n",
        "        model: A ViT model\n",
        "        image: An image for which we will compute the attention map.\n",
        "    \"\"\"\n",
        "    size = model.input_shape[1]\n",
        "    grid_size = int(np.sqrt(model.layers[14].output_shape[0][-2] - 1))\n",
        "    img1=cv2.resize(image, (size, size))\n",
        "    \n",
        "    X= img1[np.newaxis, :]\n",
        "    # Get the attention weights from each transformer.\n",
        "    outputs = [\n",
        "        l.output[1] for l in model.layers if isinstance(l, DummyLayer)\n",
        "    ]\n",
        "\n",
        "    \n",
        "    weights = np.array(\n",
        "        tf.keras.models.Model(inputs=model.inputs, outputs=outputs).predict(X)\n",
        "    )\n",
        "    \n",
        "    \n",
        "    num_layers = weights.shape[0]\n",
        "    num_heads = weights.shape[2]\n",
        "    \n",
        "    reshaped = weights.reshape(\n",
        "        (num_layers, num_heads, grid_size ** 2 + 1, grid_size ** 2 + 1 )\n",
        "    )\n",
        "    \n",
        "    # From Appendix D.6 in the paper ...\n",
        "    # Average the attention weights across all heads.\n",
        "    reshaped = reshaped.mean(axis=1)\n",
        "\n",
        "    # From Section 3 in https://arxiv.org/pdf/2005.00928.pdf ...\n",
        "    # To account for residual connections, we add an identity matrix to the\n",
        "    # attention matrix and re-normalize the weights.\n",
        "    reshaped = reshaped + np.eye(reshaped.shape[2])\n",
        "    reshaped = reshaped / reshaped.sum(axis=(1, 2))[:, np.newaxis, np.newaxis]\n",
        "    \n",
        "    v = reshaped[-1]\n",
        "    for n in range(1, len(reshaped)):\n",
        "        v = np.matmul(v, reshaped[-1 - n])\n",
        "\n",
        "\n",
        "    get_mask=True\n",
        "    # Attention from the output token to the input space.\n",
        "    mask = v[0, 1:].reshape(grid_size, grid_size)\n",
        "\n",
        "    if get_mask:\n",
        "      result = cv2.resize(mask / mask.max(), (image_size,image_size))\n",
        "    else:\n",
        "      mask = cv2.resize(mask / mask.max(), (image.shape[1], image.shape[0]))[\n",
        "          ..., np.newaxis\n",
        "          ]\n",
        "      result= (mask * image).astype(\"uint8\")\n",
        "\n",
        "    return result\n",
        "\n",
        "dir_new ='/content/drive/MyDrive/Circle_Cropped_images_Sid/'\n",
        "#Change at line 70 for testing files in training ,validation and test set\n",
        "test_file_list= os.listdir('/content/drive/MyDrive/Wound_images/test/')\n",
        "#Change at line 71 for checking with different wound images , like 19,20,21,22.......\n",
        "new_file=dir_new+test_file_list[19]\n",
        "\n",
        "#Prints the file which we are seeing\n",
        "print(new_file)\n",
        "img = PIL.Image.open(new_file)\n",
        "image = np.array(img)\n",
        "image = cv2.resize(image, (image_size,image_size))\n",
        "\n",
        "\n",
        "attention_map = attention_map(model=downstream_model_clustered, image=image)\n",
        "\n",
        "fig,ax1 = plt.subplots(ncols=1,figsize=(4,4))\n",
        "\n",
        "ax1.axis('off')\n",
        "\n",
        "_ = ax1.imshow(image)\n",
        "\n",
        "plt.savefig(\"Original file for \"+new_file[49:63] +\".png\", bbox_inches='tight',pad_inches = 0)"
      ],
      "metadata": {
        "colab": {
          "base_uri": "https://localhost:8080/",
          "height": 266
        },
        "outputId": "4aa0186b-0d3b-4c75-ea97-3730100d3cdb",
        "id": "vGH0S02JldeS"
      },
      "execution_count": null,
      "outputs": [
        {
          "output_type": "stream",
          "name": "stdout",
          "text": [
            "/content/drive/MyDrive/Circle_Cropped_images_Sid/Day 4_A8-4-R.png\n"
          ]
        },
        {
          "output_type": "display_data",
          "data": {
            "text/plain": [
              "<Figure size 288x288 with 1 Axes>"
            ],
            "image/png": "[encoded data removed]"
          },
          "metadata": {
            "needs_background": "light"
          }
        }
      ]
    },
    {
      "cell_type": "markdown",
      "source": [
        "## View and Save only Aggregate Layer"
      ],
      "metadata": {
        "id": "nJkG3HmOldeU"
      }
    },
    {
      "cell_type": "code",
      "source": [
        "import cv2\n",
        "import numpy as np\n",
        "import tensorflow as tf\n",
        "# from . import layers, vit\n",
        "\n",
        "\n",
        "def attention_map(model, image):\n",
        "    \"\"\"Get an attention map for an image and model using the technique\n",
        "    described in Appendix D.7 in the paper (unofficial).\n",
        "    Args:\n",
        "        model: A ViT model\n",
        "        image: An image for which we will compute the attention map.\n",
        "    \"\"\"\n",
        "    \n",
        "    size = model.input_shape[1]\n",
        "    grid_size = int(np.sqrt(model.layers[14].output_shape[0][-2] - 1))\n",
        "    img1=cv2.resize(image, (size, size))\n",
        "    X= img1[np.newaxis, :]\n",
        "    # Get the attention weights from each transformer.\n",
        "    outputs = [\n",
        "        l.output[1] for l in model.layers if isinstance(l, DummyLayer)\n",
        "    ]\n",
        "\n",
        "    weights = np.array(\n",
        "        tf.keras.models.Model(inputs=model.inputs, outputs=outputs).predict(X)\n",
        "    )\n",
        "    \n",
        "    num_layers = weights.shape[0]\n",
        "    num_heads = weights.shape[2]\n",
        "    \n",
        "    reshaped = weights.reshape(\n",
        "        (num_layers, num_heads, grid_size ** 2 + 1, grid_size ** 2 + 1 )\n",
        "    )\n",
        "    \n",
        "    # From Appendix D.6 in the paper ...\n",
        "    # Average the attention weights across all heads.\n",
        "    reshaped = reshaped.mean(axis=1)\n",
        "\n",
        "    # From Section 3 in https://arxiv.org/pdf/2005.00928.pdf ...\n",
        "    # To account for residual connections, we add an identity matrix to the\n",
        "    # attention matrix and re-normalize the weights.\n",
        "    reshaped = reshaped + np.eye(reshaped.shape[2])\n",
        "    reshaped = reshaped / reshaped.sum(axis=(1, 2))[:, np.newaxis, np.newaxis]\n",
        "    \n",
        "    v = reshaped[-1]\n",
        "    for n in range(1, len(reshaped)):\n",
        "        v = np.matmul(v, reshaped[-1 - n])\n",
        "\n",
        "\n",
        "    get_mask=True\n",
        "    # Attention from the output token to the input space.\n",
        "    mask = v[0, 1:].reshape(grid_size, grid_size)\n",
        "\n",
        "    if get_mask:\n",
        "      result = cv2.resize(mask / mask.max(), (image_size,image_size))\n",
        "    else:\n",
        "      mask = cv2.resize(mask / mask.max(), (image.shape[1], image.shape[0]))[\n",
        "          ..., np.newaxis\n",
        "          ]\n",
        "      result= (mask * image).astype(\"uint8\")\n",
        "\n",
        "    return result\n",
        "\n",
        "\n",
        "dir_new ='/content/drive/MyDrive/Circle_Cropped_images_Sid/'\n",
        "#Change at line 70 for testing files in training ,validation and test set\n",
        "test_file_list= os.listdir('/content/drive/MyDrive/Wound_images/test/')\n",
        "#Change at line 71 for checking with different wound images , like 19,20,21,22.......\n",
        "new_file=dir_new+test_file_list[19]\n",
        "\n",
        "#Prints the file which we are seeing\n",
        "print(new_file)\n",
        "img = PIL.Image.open(new_file)\n",
        "image = np.array(img)\n",
        "image = cv2.resize(image, (image_size,image_size))\n",
        "\n",
        "\n",
        "attention_map = attention_map(model=downstream_model_clustered, image=image)\n",
        "\n",
        "fig,ax2 = plt.subplots(ncols=1,figsize=(4,4))\n",
        "ax2.axis('off')\n",
        "\n",
        "_ = ax2.imshow(attention_map)\n",
        "\n",
        "plt.savefig(new_file[49:63]+\" Aggregate \"+\".png\" , bbox_inches='tight',pad_inches = 0)"
      ],
      "metadata": {
        "colab": {
          "base_uri": "https://localhost:8080/",
          "height": 266
        },
        "outputId": "3fc0749c-41ea-4245-9425-a33f919c1bfd",
        "id": "dUacRj3lldeW"
      },
      "execution_count": null,
      "outputs": [
        {
          "output_type": "stream",
          "name": "stdout",
          "text": [
            "/content/drive/MyDrive/Circle_Cropped_images_Sid/Day 4_A8-4-R.png\n"
          ]
        },
        {
          "output_type": "display_data",
          "data": {
            "text/plain": [
              "<Figure size 288x288 with 1 Axes>"
            ],
            "image/png": "[encoded data removed]"
          },
          "metadata": {
            "needs_background": "light"
          }
        }
      ]
    },
    {
      "cell_type": "markdown",
      "source": [
        "## View and Save only Layer1 attention"
      ],
      "metadata": {
        "id": "440WadKuldeY"
      }
    },
    {
      "cell_type": "code",
      "source": [
        "import cv2\n",
        "import numpy as np\n",
        "import tensorflow as tf\n",
        "# from . import layers, vit\n",
        "\n",
        "\n",
        "def attention_map(model, image):\n",
        "    \"\"\"Get an attention map for an image and model using the technique\n",
        "    described in Appendix D.7 in the paper (unofficial).\n",
        "    Args:\n",
        "        model: A ViT model\n",
        "        image: An image for which we will compute the attention map.\n",
        "    \"\"\"\n",
        "    size = model.input_shape[1]\n",
        "    grid_size = int(np.sqrt(model.layers[14].output_shape[0][-2] - 1))\n",
        "    img1=cv2.resize(image, (size, size))\n",
        "    \n",
        "    X= img1[np.newaxis, :]\n",
        "    # Get the attention weights from each transformer.\n",
        "    outputs = [\n",
        "        l.output[1] for l in model.layers if isinstance(l, DummyLayer)\n",
        "    ]\n",
        "    weights = np.array(\n",
        "        tf.keras.models.Model(inputs=model.inputs, outputs=outputs[0]).predict(X)\n",
        "    )\n",
        "    \n",
        "    num_layers = weights.shape[0]\n",
        "    num_heads = weights.shape[1]\n",
        "    \n",
        "    reshaped = weights.reshape(\n",
        "        (num_layers, num_heads, grid_size ** 2 + 1, grid_size ** 2 + 1 )\n",
        "    )\n",
        "    \n",
        "    # From Appendix D.6 in the paper ...\n",
        "    # Average the attention weights across all heads.\n",
        "    reshaped = reshaped.mean(axis=1)\n",
        "\n",
        "    # From Section 3 in https://arxiv.org/pdf/2005.00928.pdf ...\n",
        "    # To account for residual connections, we add an identity matrix to the\n",
        "    # attention matrix and re-normalize the weights.\n",
        "    reshaped = reshaped + np.eye(reshaped.shape[2])\n",
        "    reshaped = reshaped / reshaped.sum(axis=(1, 2))[:, np.newaxis, np.newaxis]\n",
        "    \n",
        "    v = reshaped[-1]\n",
        "    for n in range(1, len(reshaped)):\n",
        "        v = np.matmul(v, reshaped[-1 - n])\n",
        "\n",
        "\n",
        "    get_mask=True\n",
        "    \n",
        "    # Attention from the output token to the input space.\n",
        "    mask = v[0, 1:].reshape(grid_size, grid_size)\n",
        "\n",
        "    if get_mask:\n",
        "      result = cv2.resize(mask / mask.max(), (image_size,image_size))\n",
        "    else:\n",
        "      mask = cv2.resize(mask / mask.max(), (image.shape[1], image.shape[0]))[\n",
        "          ..., np.newaxis\n",
        "          ]\n",
        "      result= (mask * image).astype(\"uint8\")\n",
        "\n",
        "    return result\n",
        "\n",
        "\n",
        "dir_new ='/content/drive/MyDrive/Circle_Cropped_images_Sid/'\n",
        "#Change at line 70 for testing files in training ,validation and test set\n",
        "test_file_list= os.listdir('/content/drive/MyDrive/Wound_images/test/')\n",
        "#Change at line 71 for checking with different wound images , like 19,20,21,22.......\n",
        "new_file=dir_new+test_file_list[19]\n",
        "\n",
        "#Prints the file which we are seeing\n",
        "print(new_file)\n",
        "\n",
        "img = PIL.Image.open(new_file)\n",
        "image = np.array(img)\n",
        "image = cv2.resize(image, (image_size,image_size))\n",
        "\n",
        "\n",
        "attention_map = attention_map(model=downstream_model_clustered, image=image)\n",
        "\n",
        "fig,ax2 = plt.subplots(ncols=1,figsize=(4,4))\n",
        "ax2.axis('off')\n",
        "_ = ax2.imshow(attention_map)\n",
        "\n",
        "plt.savefig(new_file[49:63]+\"Layer 1\"+\".png\" , bbox_inches='tight',pad_inches = 0)\n"
      ],
      "metadata": {
        "colab": {
          "base_uri": "https://localhost:8080/",
          "height": 266
        },
        "outputId": "2ca9f72a-0cc3-4264-cb1a-fc990635d4bf",
        "id": "1f1CQEZ5ldea"
      },
      "execution_count": null,
      "outputs": [
        {
          "output_type": "stream",
          "name": "stdout",
          "text": [
            "/content/drive/MyDrive/Circle_Cropped_images_Sid/Day 4_A8-4-R.png\n"
          ]
        },
        {
          "output_type": "display_data",
          "data": {
            "text/plain": [
              "<Figure size 288x288 with 1 Axes>"
            ],
            "image/png": "[encoded data removed]"
          },
          "metadata": {
            "needs_background": "light"
          }
        }
      ]
    },
    {
      "cell_type": "markdown",
      "source": [
        "## View and Save only Layer 2 attention"
      ],
      "metadata": {
        "id": "7_88JAY0ldec"
      }
    },
    {
      "cell_type": "code",
      "source": [
        "import cv2\n",
        "import numpy as np\n",
        "import tensorflow as tf\n",
        "# from . import layers, vit\n",
        "\n",
        "\n",
        "def attention_map(model, image):\n",
        "    \"\"\"Get an attention map for an image and model using the technique\n",
        "    described in Appendix D.7 in the paper (unofficial).\n",
        "    Args:\n",
        "        model: A ViT model\n",
        "        image: An image for which we will compute the attention map.\n",
        "    \"\"\"\n",
        "    \n",
        "    size = model.input_shape[1]\n",
        "    grid_size = int(np.sqrt(model.layers[14].output_shape[0][-2] - 1))\n",
        "    img1=cv2.resize(image, (size, size))\n",
        "    print(\"Img 1 shape is \",img1.shape)\n",
        "    X= img1[np.newaxis, :]\n",
        "    # Get the attention weights from each transformer.\n",
        "    outputs = [\n",
        "        l.output[1] for l in model.layers if isinstance(l, DummyLayer)\n",
        "    ]\n",
        "\n",
        "    weights = np.array(\n",
        "        tf.keras.models.Model(inputs=model.inputs, outputs=outputs[1]).predict(X)\n",
        "    )\n",
        "    \n",
        "    num_layers = weights.shape[0]\n",
        "    num_heads = weights.shape[1]\n",
        "    \n",
        "    reshaped = weights.reshape(\n",
        "        (num_layers, num_heads, grid_size ** 2 + 1, grid_size ** 2 + 1 )\n",
        "    )\n",
        "    # From Appendix D.6 in the paper ...\n",
        "    # Average the attention weights across all heads.\n",
        "    reshaped = reshaped.mean(axis=1)\n",
        "\n",
        "    # From Section 3 in https://arxiv.org/pdf/2005.00928.pdf ...\n",
        "    # To account for residual connections, we add an identity matrix to the\n",
        "    # attention matrix and re-normalize the weights.\n",
        "    reshaped = reshaped + np.eye(reshaped.shape[2])\n",
        "    reshaped = reshaped / reshaped.sum(axis=(1, 2))[:, np.newaxis, np.newaxis]\n",
        "    \n",
        "    v = reshaped[-1]\n",
        "    for n in range(1, len(reshaped)):\n",
        "        v = np.matmul(v, reshaped[-1 - n])\n",
        "\n",
        "\n",
        "    get_mask=True\n",
        "    # Attention from the output token to the input space.\n",
        "    mask = v[0, 1:].reshape(grid_size, grid_size)\n",
        "\n",
        "    if get_mask:\n",
        "      result = cv2.resize(mask / mask.max(), (image_size,image_size))\n",
        "    else:\n",
        "      mask = cv2.resize(mask / mask.max(), (image.shape[1], image.shape[0]))[\n",
        "          ..., np.newaxis\n",
        "          ]\n",
        "      result= (mask * image).astype(\"uint8\")\n",
        "\n",
        "    return result\n",
        "\n",
        "\n",
        "\n",
        "dir_new ='/content/drive/MyDrive/Circle_Cropped_images_Sid/'\n",
        "#Change at line 70 for testing files in training ,validation and test set\n",
        "test_file_list= os.listdir('/content/drive/MyDrive/Wound_images/test/')\n",
        "#Change at line 71 for checking with different wound images , like 19,20,21,22.......\n",
        "new_file=dir_new+test_file_list[19]\n",
        "\n",
        "#Prints the file which we are seeing\n",
        "print(new_file)\n",
        "img = PIL.Image.open(new_file)\n",
        "image = np.array(img)\n",
        "image = cv2.resize(image, (image_size,image_size))\n",
        "\n",
        "\n",
        "attention_map = attention_map(model=downstream_model_clustered, image=image)\n",
        "\n",
        "fig,ax2 = plt.subplots(ncols=1,figsize=(4,4))\n",
        "ax2.axis('off')\n",
        "\n",
        "_ = ax2.imshow(attention_map)\n",
        "\n",
        "plt.savefig(new_file[49:63]+\"Layer 2\" +\".png\", bbox_inches='tight',pad_inches = 0)"
      ],
      "metadata": {
        "colab": {
          "base_uri": "https://localhost:8080/",
          "height": 284
        },
        "outputId": "bb2fa83c-8f11-46fc-bd12-359299264a3a",
        "id": "MVph-syAlded"
      },
      "execution_count": null,
      "outputs": [
        {
          "output_type": "stream",
          "name": "stdout",
          "text": [
            "/content/drive/MyDrive/Circle_Cropped_images_Sid/Day 4_A8-4-R.png\n",
            "Img 1 shape is  (224, 224, 3)\n"
          ]
        },
        {
          "output_type": "display_data",
          "data": {
            "text/plain": [
              "<Figure size 288x288 with 1 Axes>"
            ],
            "image/png": "[encoded data removed]"
          },
          "metadata": {
            "needs_background": "light"
          }
        }
      ]
    },
    {
      "cell_type": "markdown",
      "source": [
        "## View and Save only Layer 3 attention"
      ],
      "metadata": {
        "id": "ao1dQJ-Qldee"
      }
    },
    {
      "cell_type": "code",
      "source": [
        "import cv2\n",
        "import numpy as np\n",
        "import tensorflow as tf\n",
        "# from . import layers, vit\n",
        "\n",
        "\n",
        "def attention_map(model, image):\n",
        "    \"\"\"Get an attention map for an image and model using the technique\n",
        "    described in Appendix D.7 in the paper (unofficial).\n",
        "    Args:\n",
        "        model: A ViT model\n",
        "        image: An image for which we will compute the attention map.\n",
        "    \"\"\"\n",
        "    \n",
        "    size = model.input_shape[1]\n",
        "    grid_size = int(np.sqrt(model.layers[14].output_shape[0][-2] - 1))\n",
        "    img1=cv2.resize(image, (size, size))\n",
        "    print(\"Img 1 shape is \",img1.shape)\n",
        "    X= img1[np.newaxis, :]\n",
        "    # Get the attention weights from each transformer.\n",
        "    outputs = [\n",
        "        l.output[1] for l in model.layers if isinstance(l, DummyLayer)\n",
        "    ]\n",
        "\n",
        "    weights = np.array(\n",
        "        tf.keras.models.Model(inputs=model.inputs, outputs=outputs[2]).predict(X)\n",
        "    )\n",
        "    \n",
        "    num_layers = weights.shape[0]\n",
        "    num_heads = weights.shape[1]\n",
        "    \n",
        "    reshaped = weights.reshape(\n",
        "        (num_layers, num_heads, grid_size ** 2 + 1, grid_size ** 2 + 1 )\n",
        "    )\n",
        "    \n",
        "    # From Appendix D.6 in the paper ...\n",
        "    # Average the attention weights across all heads.\n",
        "    reshaped = reshaped.mean(axis=1)\n",
        "\n",
        "    # From Section 3 in https://arxiv.org/pdf/2005.00928.pdf ...\n",
        "    # To account for residual connections, we add an identity matrix to the\n",
        "    # attention matrix and re-normalize the weights.\n",
        "    reshaped = reshaped + np.eye(reshaped.shape[2])\n",
        "    reshaped = reshaped / reshaped.sum(axis=(1, 2))[:, np.newaxis, np.newaxis]\n",
        "    \n",
        "    v = reshaped[-1]\n",
        "    for n in range(1, len(reshaped)):\n",
        "        v = np.matmul(v, reshaped[-1 - n])\n",
        "\n",
        "\n",
        "    get_mask=True\n",
        "    # Attention from the output token to the input space.\n",
        "    mask = v[0, 1:].reshape(grid_size, grid_size)\n",
        "\n",
        "    if get_mask:\n",
        "      result = cv2.resize(mask / mask.max(), (image_size,image_size))\n",
        "    else:\n",
        "      mask = cv2.resize(mask / mask.max(), (image.shape[1], image.shape[0]))[\n",
        "          ..., np.newaxis\n",
        "          ]\n",
        "      result= (mask * image).astype(\"uint8\")\n",
        "\n",
        "    return result\n",
        "\n",
        "dir_new ='/content/drive/MyDrive/Circle_Cropped_images_Sid/'\n",
        "#Change at line 70 for testing files in training ,validation and test set\n",
        "test_file_list= os.listdir('/content/drive/MyDrive/Wound_images/test/')\n",
        "#Change at line 71 for checking with different wound images , like 19,20,21,22.......\n",
        "new_file=dir_new+test_file_list[19]\n",
        "\n",
        "#Prints the file which we are seeing\n",
        "print(new_file)\n",
        "img = PIL.Image.open(new_file)\n",
        "image = np.array(img)\n",
        "image = cv2.resize(image, (image_size,image_size))\n",
        "\n",
        "\n",
        "attention_map = attention_map(model=downstream_model_clustered, image=image)\n",
        "\n",
        "fig,ax2 = plt.subplots(ncols=1,figsize=(4,4))\n",
        "ax2.axis('off')\n",
        "\n",
        "_ = ax2.imshow(attention_map)\n",
        "\n",
        "plt.savefig(new_file[49:63]+\"Layer 3\" +\".png\", bbox_inches='tight',pad_inches = 0)\n"
      ],
      "metadata": {
        "colab": {
          "base_uri": "https://localhost:8080/",
          "height": 284
        },
        "outputId": "56639c67-2f60-4151-cd1b-b8fb1b343bf1",
        "id": "XL9QLGelldef"
      },
      "execution_count": null,
      "outputs": [
        {
          "output_type": "stream",
          "name": "stdout",
          "text": [
            "/content/drive/MyDrive/Circle_Cropped_images_Sid/Day 4_A8-4-R.png\n",
            "Img 1 shape is  (224, 224, 3)\n"
          ]
        },
        {
          "output_type": "display_data",
          "data": {
            "text/plain": [
              "<Figure size 288x288 with 1 Axes>"
            ],
            "image/png": "[encoded data removed]"
          },
          "metadata": {
            "needs_background": "light"
          }
        }
      ]
    },
    {
      "cell_type": "markdown",
      "source": [
        "## View and Save only Layer 4 attention"
      ],
      "metadata": {
        "id": "YxxNmpnkldeg"
      }
    },
    {
      "cell_type": "code",
      "source": [
        "import cv2\n",
        "import numpy as np\n",
        "import tensorflow as tf\n",
        "\n",
        "\n",
        "\n",
        "def attention_map(model, image):\n",
        "    \"\"\"Get an attention map for an image and model using the technique\n",
        "    described in Appendix D.7 in the paper (unofficial).\n",
        "    Args:\n",
        "        model: A ViT model\n",
        "        image: An image for which we will compute the attention map.\n",
        "    \"\"\"\n",
        "    \n",
        "    size = model.input_shape[1]\n",
        "    grid_size = int(np.sqrt(model.layers[14].output_shape[0][-2] - 1))\n",
        "    img1=cv2.resize(image, (size, size))\n",
        "    print(\"Img 1 shape is \",img1.shape)\n",
        "    X= img1[np.newaxis, :]\n",
        "    # Get the attention weights from each transformer.\n",
        "    outputs = [\n",
        "        l.output[1] for l in model.layers if isinstance(l, DummyLayer)\n",
        "    ]\n",
        "\n",
        "    weights = np.array(\n",
        "        tf.keras.models.Model(inputs=model.inputs, outputs=outputs[3]).predict(X)\n",
        "    )\n",
        "    \n",
        "    num_layers = weights.shape[0]\n",
        "    num_heads = weights.shape[1]\n",
        "    \n",
        "    reshaped = weights.reshape(\n",
        "        (num_layers, num_heads, grid_size ** 2 + 1, grid_size ** 2 + 1 )\n",
        "    )\n",
        "    \n",
        "    # From Appendix D.6 in the paper ...\n",
        "    # Average the attention weights across all heads.\n",
        "    reshaped = reshaped.mean(axis=1)\n",
        "\n",
        "    # From Section 3 in https://arxiv.org/pdf/2005.00928.pdf ...\n",
        "    # To account for residual connections, we add an identity matrix to the\n",
        "    # attention matrix and re-normalize the weights.\n",
        "    reshaped = reshaped + np.eye(reshaped.shape[2])\n",
        "    reshaped = reshaped / reshaped.sum(axis=(1, 2))[:, np.newaxis, np.newaxis]\n",
        "    \n",
        "    v = reshaped[-1]\n",
        "    for n in range(1, len(reshaped)):\n",
        "        v = np.matmul(v, reshaped[-1 - n])\n",
        "\n",
        "\n",
        "    get_mask=True\n",
        "    # Attention from the output token to the input space.\n",
        "    mask = v[0, 1:].reshape(grid_size, grid_size)\n",
        "\n",
        "    if get_mask:\n",
        "      result = cv2.resize(mask / mask.max(), (image_size,image_size))\n",
        "    else:\n",
        "      mask = cv2.resize(mask / mask.max(), (image.shape[1], image.shape[0]))[\n",
        "          ..., np.newaxis\n",
        "          ]\n",
        "      result= (mask * image).astype(\"uint8\")\n",
        "\n",
        "    return result\n",
        "\n",
        "dir_new ='/content/drive/MyDrive/Circle_Cropped_images_Sid/'\n",
        "#Change at line 70 for testing files in training ,validation and test set\n",
        "test_file_list= os.listdir('/content/drive/MyDrive/Wound_images/test/')\n",
        "#Change at line 71 for checking with different wound images , like 19,20,21,22.......\n",
        "new_file=dir_new+test_file_list[19]\n",
        "\n",
        "#Prints the file which we are seeing\n",
        "print(new_file)\n",
        "\n",
        "img = PIL.Image.open(new_file)\n",
        "image = np.array(img)\n",
        "image = cv2.resize(image, (image_size,image_size))\n",
        "\n",
        "\n",
        "attention_map = attention_map(model=downstream_model_clustered, image=image)\n",
        "\n",
        "fig,ax2 = plt.subplots(ncols=1,figsize=(4,4))\n",
        "ax2.axis('off')\n",
        "\n",
        "_ = ax2.imshow(attention_map)\n",
        "\n",
        "plt.savefig(new_file[49:63]+\"Layer 4\" +\".png\", bbox_inches='tight',pad_inches = 0)"
      ],
      "metadata": {
        "id": "dZY_BlYdldeh",
        "colab": {
          "base_uri": "https://localhost:8080/",
          "height": 284
        },
        "outputId": "e9e8f110-87e1-4424-c799-045543bc07a3"
      },
      "execution_count": null,
      "outputs": [
        {
          "output_type": "stream",
          "name": "stdout",
          "text": [
            "/content/drive/MyDrive/Circle_Cropped_images_Sid/Day 4_A8-4-R.png\n",
            "Img 1 shape is  (224, 224, 3)\n"
          ]
        },
        {
          "output_type": "display_data",
          "data": {
            "text/plain": [
              "<Figure size 288x288 with 1 Axes>"
            ],
            "image/png": "[encoded data removed]"
          },
          "metadata": {
            "needs_background": "light"
          }
        }
      ]
    },
    {
      "cell_type": "markdown",
      "source": [
        "## Accuracy"
      ],
      "metadata": {
        "id": "B1dpH1f5fpvW"
      }
    },
    {
      "cell_type": "code",
      "source": [
        "plt.plot(downstream_model_clustered_history.history['accuracy'])\n",
        "plt.plot(downstream_model_clustered_history.history['val_accuracy'])\n",
        "plt.title('Accuracy for clasifying Images into wound stages')\n",
        "plt.legend(['train', 'val'], loc='right')\n",
        "plt.show()"
      ],
      "metadata": {
        "colab": {
          "base_uri": "https://localhost:8080/",
          "height": 281
        },
        "outputId": "9568b558-a74f-4f6d-8a40-6af88180554a",
        "id": "rUlotqI3fpvZ"
      },
      "execution_count": null,
      "outputs": [
        {
          "output_type": "display_data",
          "data": {
            "text/plain": [
              "<Figure size 432x288 with 1 Axes>"
            ],
            "image/png": "[encoded data removed]"
          },
          "metadata": {
            "needs_background": "light"
          }
        }
      ]
    },
    {
      "cell_type": "markdown",
      "source": [
        "## Losses"
      ],
      "metadata": {
        "id": "QJSBeoVvfpvb"
      }
    },
    {
      "cell_type": "code",
      "source": [
        "# summarize history for loss\n",
        "plt.plot(downstream_model_clustered_history.history['loss'])\n",
        "plt.plot(downstream_model_clustered_history.history['val_loss'])\n",
        "plt.title('Train Loss and Validation Loss for clasifying Images into wound stages')\n",
        "plt.legend(['train', 'val'], loc='right')\n",
        "plt.show()"
      ],
      "metadata": {
        "colab": {
          "base_uri": "https://localhost:8080/",
          "height": 281
        },
        "outputId": "bb56d99c-4fe1-4231-97b1-63bfe76f3a03",
        "id": "m4t2xClufpvd"
      },
      "execution_count": null,
      "outputs": [
        {
          "output_type": "display_data",
          "data": {
            "text/plain": [
              "<Figure size 432x288 with 1 Axes>"
            ],
            "image/png": "[encoded data removed]"
          },
          "metadata": {
            "needs_background": "light"
          }
        }
      ]
    }
  ],
  "metadata": {
    "colab": {
      "collapsed_sections": [
        "ehA03dwBDBUi",
        "e5lctax0DdX3",
        "jgGh-KarGMIH",
        "1IX2HkVfhrx_",
        "SM-LvjMBFqeb",
        "k2P6-J-8Fs9M",
        "xwh1YiPIUixY",
        "jQAeUd6_Su7b",
        "miRzKpnAxcIY",
        "Q0FD78G1heQ7",
        "sWdJ_rK-UM27",
        "BZ2QvCp8_5V4",
        "x_FAH7nRQ898",
        "aUbgrFwfQ_CN",
        "fBdMg2xqWozZ",
        "6qRtFNAn8nIS",
        "Mxc-K2BIzS8a",
        "ndRr0AkY-yrX",
        "MqYStjE4cLJY",
        "zStGCWsGokiW",
        "qdKTL2Tfj2mc",
        "bI8OMB4J3eRn",
        "8fLh6pqK3eRu",
        "pQkFvQaEldeQ"
      ],
      "name": "ViT using Self Supervised Learning",
      "provenance": []
    },
    "kernelspec": {
      "display_name": "Python 3",
      "name": "python3"
    },
    "language_info": {
      "name": "python"
    },
    "accelerator": "GPU"
  },
  "nbformat": 4,
  "nbformat_minor": 0
}